{
 "cells": [
  {
   "cell_type": "markdown",
   "id": "88e8008c",
   "metadata": {},
   "source": [
    "## Gemini Prompt Engineering Notes"
   ]
  },
  {
   "cell_type": "markdown",
   "id": "c24f1c6e",
   "metadata": {},
   "source": [
    "Prompt engineering helps improve the quality, relevance, and consistency of AI outputs. To increase the likelihood of the Gemini API to generate a similar report to the one our sponsor provided, we will be testing structured, specific prompts to control the model's randomness and prevent having to expend resources to train a model."
   ]
  },
  {
   "cell_type": "markdown",
   "id": "40fe1196",
   "metadata": {},
   "source": [
    "Gemini API Structure:\n",
    "- User Inputs: Multimodal, allows prompts to include text, images, video, and audio\n",
    "- System Instructions: Guide the model's behavior and provide context for the entire user interaction. We will definetly specify the output format to ensure it is saved into the database correctly.\n",
    "    - Plan to test: Persona/role, output style/tone\n",
    "- Configuration Parameters: Control content generation and fine-tune the model's reponse."
   ]
  },
  {
   "cell_type": "markdown",
   "id": "bd75a36e",
   "metadata": {},
   "source": [
    "### Data From Sponsor"
   ]
  },
  {
   "cell_type": "markdown",
   "id": "e7b5fd2a",
   "metadata": {},
   "source": [
    "Questionnaire / Organization Profile Example"
   ]
  },
  {
   "cell_type": "markdown",
   "id": "15947b11",
   "metadata": {},
   "source": [
    "| Org Name | Email Domain | Website Domain | External IP | Do you require MFA to access email? | Do you require MFA to log into computers? | Do you require MFA to access sensitive data systems? | Does your organization have an employee acceptable use policy? | Does your organization do security awareness training for new employees? | Does your organization do security awareness training for all employees at least once per year? |\n",
    "| :---: | :---: | :--: | :--: | :--: | :--: | :--: | :--: | :--: | :--: |\n",
    "| Valier School District | valier.k12.mt.us | www.valier.k12.mt.us | 216.220.16.170 | Yes | Yes | Yes | Yes | Yes | Yes |"
   ]
  },
  {
   "cell_type": "markdown",
   "id": "187234f0",
   "metadata": {},
   "source": [
    "DNS DIG on Email Domain"
   ]
  },
  {
   "cell_type": "markdown",
   "id": "7c14b32f",
   "metadata": {},
   "source": [
    "``` \n",
    "id 49113\n",
    "opcode QUERY\n",
    "rcode NOERROR\n",
    "flags QR RD RA\n",
    ";QUESTION\n",
    "valier.k12.mt.us. IN ANY\n",
    ";ANSWER\n",
    "valier.k12.mt.us. 3600 IN SOA cudess1.umt.edu. dns-request.umt.edu. 2024030501 21600 900 1209600 86400\n",
    "valier.k12.mt.us. 3600 IN NS ens-o1.umt.edu.\n",
    "valier.k12.mt.us. 3600 IN NS cudess2.umt.edu.\n",
    "valier.k12.mt.us. 3600 IN NS cudess1.umt.edu.\n",
    "valier.k12.mt.us. 3600 IN A 216.239.38.21\n",
    "valier.k12.mt.us. 3600 IN A 216.239.32.21\n",
    "valier.k12.mt.us. 3600 IN A 216.239.34.21\n",
    "valier.k12.mt.us. 3600 IN A 216.239.36.21\n",
    "valier.k12.mt.us. 3600 IN MX 1 aspmx.l.google.com.\n",
    "valier.k12.mt.us. 3600 IN MX 10 aspmx2.googlemail.com.\n",
    "valier.k12.mt.us. 3600 IN MX 10 aspmx3.googlemail.com.\n",
    "valier.k12.mt.us. 3600 IN MX 5 alt1.aspmx.l.google.com.\n",
    "valier.k12.mt.us. 3600 IN MX 5 alt2.aspmx.l.google.com.\n",
    "valier.k12.mt.us. 3600 IN TXT \"v=spf1 include:_spf.google.com include:mg.infinitecampus.org -all\"\n",
    ";AUTHORITY\n",
    ";ADDITIONAL\n",
    "```"
   ]
  },
  {
   "cell_type": "markdown",
   "id": "359b9c25",
   "metadata": {},
   "source": [
    "DNS DIG on Email DMARC Domain"
   ]
  },
  {
   "cell_type": "markdown",
   "id": "36b2d367",
   "metadata": {},
   "source": [
    "```\n",
    "id 45565\n",
    "opcode QUERY\n",
    "rcode NOERROR\n",
    "flags QR RD RA\n",
    ";QUESTION\n",
    "_dmarc.valier.k12.mt.us. IN ANY\n",
    ";ANSWER\n",
    "_dmarc.valier.k12.mt.us. 3600 IN TXT \"v=DMARC1; p=reject; rua=mailto:dmarc@valier.k12.mt.us\"\n",
    ";AUTHORITY\n",
    ";ADDITIONAL\n",
    "```"
   ]
  },
  {
   "cell_type": "markdown",
   "id": "9c2795d4",
   "metadata": {},
   "source": [
    "Port Scan on Web"
   ]
  },
  {
   "cell_type": "markdown",
   "id": "eda1a722",
   "metadata": {},
   "source": [
    "```\n",
    "--------------------------------------------------\n",
    "Scanning Target: 216.239.32.21\n",
    "Scanning started at:2025-07-18 22:09:34.408091\n",
    "--------------------------------------------------\n",
    "Port 80 is open\n",
    "Port 443 is open\n",
    "```"
   ]
  },
  {
   "cell_type": "markdown",
   "id": "ebd92451",
   "metadata": {},
   "source": [
    "Port Scan on External IP"
   ]
  },
  {
   "cell_type": "markdown",
   "id": "52fd290c",
   "metadata": {},
   "source": [
    "```\n",
    "--------------------------------------------------\n",
    "Scanning Target: 216.220.16.170\n",
    "Scanning started at:2025-07-18 22:12:17.055226\n",
    "--------------------------------------------------\n",
    "no ports open\n",
    "```"
   ]
  },
  {
   "cell_type": "markdown",
   "id": "c0ff7559",
   "metadata": {},
   "source": [
    "### Sample Prompt from Sponsor"
   ]
  },
  {
   "cell_type": "markdown",
   "id": "9c620255",
   "metadata": {},
   "source": [
    "Given this DNS DIG, Port scan of the website, Port scan of the firewall, and the answers to the security questionnaire, write a report on the cybersecurity readiness of the organization."
   ]
  },
  {
   "cell_type": "markdown",
   "id": "9c4655ea",
   "metadata": {},
   "source": [
    "### Example Report from Sponsor, Generated from ChatGPT"
   ]
  },
  {
   "cell_type": "markdown",
   "id": "cee3a633",
   "metadata": {},
   "source": [
    "**Cybersecurity Readiness Report for Valier School District**\n",
    "\n",
    "**Date:** July 18, 2025\n",
    "\n",
    "**1. Overview**\n",
    "\n",
    "This report evaluates the cybersecurity posture of Valier School District based on technical scans (DNS, DMARC, and port scanning) and a self-reported security questionnaire. The findings reflect a strong commitment to foundational cybersecurity practices across user access, email protection, network exposure, and staff awareness.\n",
    "\n",
    "**2. Organizational Information**\n",
    "- **Organization Name:** Valier School District\n",
    "- **Email Domain:** valier.k12.mt.us\n",
    "- **Website Domain:** www.valier.k12.mt.us\n",
    "- **External IP (Firewall):** 216.220.16.170\n",
    "- **Website Hosting IPs:** 216.239.32.21, 216.239.34.21, 216.239.36.21, 216.239.38.21\n",
    "- **DNS Hosting:** Managed by University of Montana (umt.edu nameservers)\n",
    "\n",
    "**3. Security Questionnaire Review**\n",
    "| Security Control | Status |\n",
    "| :--------------: | :----: |\n",
    "| MFA for Email | Yes |\n",
    "| MFA for Computer Login | Yes |\n",
    "| MFA for Sensitive Systems | Yes |\n",
    "| Acceptable Use Policy | Yes |\n",
    "| New Employee Security Awareness Training | Yes |\n",
    "| Annual All-Employee Security Training | Yes |\n",
    "\n",
    "**Summary:** The district reports complete implementation of basic cyber hygiene practices, especially user authentication (Multi-Factor Authentication) and routine training. This indicates a proactive and policy-driven approach to risk mitigation.\n",
    "\n",
    "**4. DNS & Email Security**\n",
    "\n",
    "**DNS Records**\n",
    "- DNS is managed by the University of Montana (cudess1.umt.edu, cudess2.umt.edu), suggesting centralized and professionally administered DNS.\n",
    "- A records point to IPs within Google's network (likely Google Sites hosting for web content).\n",
    "**MX Records (Email)**\n",
    "- The district uses Google Workspace (Gmail) for email, as shown by multiple aspmx.l.google.com MX records.\n",
    "- SPF record is correctly configured: v=spf1 include:_spf.google.com include:mg.infinitecampus.org -all\n",
    "    - This helps mitigate spoofing by defining authorized mail senders.\n",
    "**DMARC Record**\n",
    "- A valid DMARC record exists with a **reject** policy: v=DMARC1; p=reject; rua=mailto:dmarc@valier.k12.mt.us\n",
    "    - This instructs receiving servers to reject unauthenticated mail, providing strong protection against phishing.\n",
    "**Conclusion:** DNS and email protections (SPF, DMARC, and hosting security) are configured correctly and follow best practices.\n",
    "\n",
    "**5. Port Scanning Results**\n",
    "\n",
    "**Website Hosting (Google IP: 216.239.32.21)**\n",
    "- **Port 80 (HTTP):** Open\n",
    "- **Port 443 (HTTPS):** Open\n",
    "These are expected for a publicly accessible website and are typical for Google-hosted services.\n",
    "\n",
    "**Firewall / External IP (216.220.16.170)**\n",
    "- **All scanned ports are closed**\n",
    "This is a strong sign of network perimeter hardening and good firewall configuration. No externally exposed services were found on the organization's primary IP.\n",
    "\n",
    "**6. Risk Assessment & Readiness Summary**\n",
    "| Category | Status | Notes |\n",
    "| :------: | :----: | :---: |\n",
    "| Authentication Security | Strong | MFA is required across key systems |\n",
    "| Email Security | Strong | SPF and DMARC with \"reject\" policy in place |\n",
    "| Network Exposure | Secure | No exposed services on the external firewall IP |\n",
    "| Web Hosting | Secure | Google-hosted; limited attack surface |\n",
    "| Policy & Training | Comprehensive | Acceptable use policies and regular training in place |\n",
    "\n",
    "**7. Recommendations**\n",
    "Although the cybersecurity readiness is solid, continuous improvement is essential. We recommend the following:\n",
    "1. **Verify DKIM**: While SPF and DMARC are configured, ensure **DKIM** is also active for all sending domains.\n",
    "2. **Vulnerability Scanning**: Consider regular internal and external vulnerability assessments of network devices and servers.\n",
    "3. **Incident Response Plan**: Document and regularly test a cybersecurity incident reponse and disaster recovery plan.\n",
    "4. **Asset Inventory**: Maintain a regularly updated inventory of hardware/software assets and monitor for unauthorized changes.\n",
    "5. **Third-party Risk**: Evaluate vendors (e.g., Infinite Campus) for their security psture, especially since they're included in SPF.\n",
    "\n",
    "**8. Conclusion**\n",
    "\n",
    "Valier School District demonstrates a strong cybersecurity foundation, particularly in authentication, email protection, staff training, and perimeter security. Continued vigilance and regular audits will help maintain and improve this strong security posture.\n",
    "\n",
    "**Prepared by:**\n",
    "\n",
    "Cybersecurity Assessment Team\n",
    "\n",
    "**Date:** July 18, 2025"
   ]
  },
  {
   "cell_type": "markdown",
   "id": "95457b58",
   "metadata": {},
   "source": [
    "## Testing Gemini API"
   ]
  },
  {
   "cell_type": "markdown",
   "id": "b85e183e",
   "metadata": {},
   "source": [
    "[Gemini Models](https://ai.google.dev/gemini-api/docs/models)"
   ]
  },
  {
   "cell_type": "code",
   "execution_count": null,
   "id": "627d9dbc",
   "metadata": {},
   "outputs": [
    {
     "name": "stdout",
     "output_type": "stream",
     "text": [
      "Of course! Here is an explanation of cybersecurity in simple terms, using an easy-to-understand analogy.\n",
      "\n",
      "### The Simple Idea\n",
      "\n",
      "Imagine your digital life (your computer, phone, accounts) is like your house.\n",
      "\n",
      "*   **Your Data** (photos, bank information, passwords, messages) is like your valuable stuff inside the house (your TV, jewelry, and personal documents).\n",
      "*   **Cybersecurity** is everything you do to keep your house and your valuables safe from burglars.\n",
      "\n",
      "---\n",
      "\n",
      "### How It Works (The House Analogy)\n",
      "\n",
      "**1. The \"Burglars\" (Hackers and Threats)**\n",
      "These are the bad guys trying to break into your digital \"house.\" They want to steal your valuables (data), damage your property (mess up your devices), or lock you out of your own home (ransomware).\n",
      "\n",
      "**2. The \"Doors and Windows\" (Your Connections)**\n",
      "This is how you connect to the outside world, like your Wi-Fi, email, and the apps you use. Just like real doors and windows, these are the entry points burglars try to use.\n",
      "\n",
      "**3. The \"Security Measures\" (Cybersecurity Tools & Practices)**\n",
      "This is how you protect yourself.\n",
      "\n",
      "*   **Locks on Your Doors (Passwords):** A strong, unique password is like a complex lock that's hard to pick. A weak password like \"123456\" is like leaving your key under the doormat.\n",
      "\n",
      "*   **A Second, Special Key (Two-Factor Authentication - 2FA):** This is when you need your password *plus* a code from your phone to log in. It’s like needing your house key *and* a fingerprint scan to open the door. Even if a burglar steals your key, they still can't get in.\n",
      "\n",
      "*   **A Security Alarm System (Antivirus & Firewalls):** This software actively watches for anything suspicious. A firewall acts like a security guard at your gate, checking who comes and goes. An antivirus program hunts for burglars who may have already snuck inside.\n",
      "\n",
      "*   **Not Falling for Scams (Avoiding Phishing):** A \"phishing\" attack is when a burglar pretends to be someone you trust (like the mailman or your bank) to trick you into giving them your key. Cybersecurity teaches you to be cautious and not open the door for strangers or click on suspicious links in emails.\n",
      "\n",
      "*   **Fixing a Broken Window (Software Updates):** Sometimes, companies find a weak spot (a \"vulnerability\") in their software. An update is like a handyman coming to fix that weak spot so burglars can't use it to get in. That's why keeping your apps and devices updated is so important.\n",
      "\n",
      "---\n",
      "\n",
      "### So, what is cybersecurity?\n",
      "\n",
      "**Cybersecurity is the practice of protecting your digital world from theft, damage, or unauthorized access.**\n",
      "\n",
      "It’s not just about buying fancy software. It's a combination of:\n",
      "*   **Technology:** The tools we use (like antivirus).\n",
      "*   **Processes:** The rules companies follow to stay safe.\n",
      "*   **People:** You! Making smart and safe choices online is one of the biggest parts of staying secure.\n"
     ]
    }
   ],
   "source": [
    "import os\n",
    "import google.generativeai as genai\n",
    "from dotenv import load_dotenv, find_dotenv\n",
    "\n",
    "load_dotenv(find_dotenv())\n",
    "\n",
    "genai.configure(api_key=os.environ[\"GEMINI_API_KEY\"])\n",
    "\n",
    "model = genai.GenerativeModel('gemini-2.5-pro')\n",
    "response = model.generate_content(\"Explain the concept of cybersecurity in simple terms.\")\n",
    "\n",
    "print(response.text)"
   ]
  },
  {
   "cell_type": "code",
   "execution_count": null,
   "id": "4e4fedce",
   "metadata": {},
   "outputs": [],
   "source": []
  }
 ],
 "metadata": {
  "kernelspec": {
   "display_name": "sd",
   "language": "python",
   "name": "python3"
  },
  "language_info": {
   "codemirror_mode": {
    "name": "ipython",
    "version": 3
   },
   "file_extension": ".py",
   "mimetype": "text/x-python",
   "name": "python",
   "nbconvert_exporter": "python",
   "pygments_lexer": "ipython3",
   "version": "3.10.18"
  }
 },
 "nbformat": 4,
 "nbformat_minor": 5
}
