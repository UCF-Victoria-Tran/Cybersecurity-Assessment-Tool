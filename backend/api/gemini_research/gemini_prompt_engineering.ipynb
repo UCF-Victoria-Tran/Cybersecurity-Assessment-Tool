{
 "cells": [
  {
   "cell_type": "markdown",
   "id": "88e8008c",
   "metadata": {},
   "source": [
    "## Gemini Prompt Engineering Notes"
   ]
  },
  {
   "cell_type": "markdown",
   "id": "c24f1c6e",
   "metadata": {},
   "source": [
    "Prompt engineering helps improve the quality, relevance, and consistency of AI outputs. To increase the likelihood of the Gemini API to generate a similar report to the one our sponsor provided, we will be testing structured, specific prompts to control the model's randomness and prevent having to expend resources to train a model."
   ]
  },
  {
   "cell_type": "markdown",
   "id": "40fe1196",
   "metadata": {},
   "source": [
    "Gemini API Structure:\n",
    "- User Inputs: Multimodal, allows prompts to include text, images, video, and audio\n",
    "- System Instructions: Guide the model's behavior and provide context for the entire user interaction. We will definetly specify the output format to ensure it is saved into the database correctly.\n",
    "    - Plan to test: Persona/role, output style/tone\n",
    "- Configuration Parameters: Control content generation and fine-tune the model's reponse."
   ]
  },
  {
   "cell_type": "markdown",
   "id": "bd75a36e",
   "metadata": {},
   "source": [
    "### Data From Sponsor"
   ]
  },
  {
   "cell_type": "markdown",
   "id": "e7b5fd2a",
   "metadata": {},
   "source": [
    "Questionnaire / Organization Profile Example"
   ]
  },
  {
   "cell_type": "markdown",
   "id": "15947b11",
   "metadata": {},
   "source": [
    "| Org Name | Email Domain | Website Domain | External IP | Do you require MFA to access email? | Do you require MFA to log into computers? | Do you require MFA to access sensitive data systems? | Does your organization have an employee acceptable use policy? | Does your organization do security awareness training for new employees? | Does your organization do security awareness training for all employees at least once per year? |\n",
    "| :---: | :---: | :--: | :--: | :--: | :--: | :--: | :--: | :--: | :--: |\n",
    "| Valier School District | valier.k12.mt.us | www.valier.k12.mt.us | 216.220.16.170 | Yes | Yes | Yes | Yes | Yes | Yes |"
   ]
  },
  {
   "cell_type": "markdown",
   "id": "187234f0",
   "metadata": {},
   "source": [
    "DNS DIG on Email Domain"
   ]
  },
  {
   "cell_type": "markdown",
   "id": "7c14b32f",
   "metadata": {},
   "source": [
    "``` \n",
    "id 49113\n",
    "opcode QUERY\n",
    "rcode NOERROR\n",
    "flags QR RD RA\n",
    ";QUESTION\n",
    "valier.k12.mt.us. IN ANY\n",
    ";ANSWER\n",
    "valier.k12.mt.us. 3600 IN SOA cudess1.umt.edu. dns-request.umt.edu. 2024030501 21600 900 1209600 86400\n",
    "valier.k12.mt.us. 3600 IN NS ens-o1.umt.edu.\n",
    "valier.k12.mt.us. 3600 IN NS cudess2.umt.edu.\n",
    "valier.k12.mt.us. 3600 IN NS cudess1.umt.edu.\n",
    "valier.k12.mt.us. 3600 IN A 216.239.38.21\n",
    "valier.k12.mt.us. 3600 IN A 216.239.32.21\n",
    "valier.k12.mt.us. 3600 IN A 216.239.34.21\n",
    "valier.k12.mt.us. 3600 IN A 216.239.36.21\n",
    "valier.k12.mt.us. 3600 IN MX 1 aspmx.l.google.com.\n",
    "valier.k12.mt.us. 3600 IN MX 10 aspmx2.googlemail.com.\n",
    "valier.k12.mt.us. 3600 IN MX 10 aspmx3.googlemail.com.\n",
    "valier.k12.mt.us. 3600 IN MX 5 alt1.aspmx.l.google.com.\n",
    "valier.k12.mt.us. 3600 IN MX 5 alt2.aspmx.l.google.com.\n",
    "valier.k12.mt.us. 3600 IN TXT \"v=spf1 include:_spf.google.com include:mg.infinitecampus.org -all\"\n",
    ";AUTHORITY\n",
    ";ADDITIONAL\n",
    "```"
   ]
  },
  {
   "cell_type": "markdown",
   "id": "359b9c25",
   "metadata": {},
   "source": [
    "DNS DIG on Email DMARC Domain"
   ]
  },
  {
   "cell_type": "markdown",
   "id": "36b2d367",
   "metadata": {},
   "source": [
    "```\n",
    "id 45565\n",
    "opcode QUERY\n",
    "rcode NOERROR\n",
    "flags QR RD RA\n",
    ";QUESTION\n",
    "_dmarc.valier.k12.mt.us. IN ANY\n",
    ";ANSWER\n",
    "_dmarc.valier.k12.mt.us. 3600 IN TXT \"v=DMARC1; p=reject; rua=mailto:dmarc@valier.k12.mt.us\"\n",
    ";AUTHORITY\n",
    ";ADDITIONAL\n",
    "```"
   ]
  },
  {
   "cell_type": "markdown",
   "id": "9c2795d4",
   "metadata": {},
   "source": [
    "Port Scan on Web"
   ]
  },
  {
   "cell_type": "markdown",
   "id": "eda1a722",
   "metadata": {},
   "source": [
    "```\n",
    "--------------------------------------------------\n",
    "Scanning Target: 216.239.32.21\n",
    "Scanning started at:2025-07-18 22:09:34.408091\n",
    "--------------------------------------------------\n",
    "Port 80 is open\n",
    "Port 443 is open\n",
    "```"
   ]
  },
  {
   "cell_type": "markdown",
   "id": "ebd92451",
   "metadata": {},
   "source": [
    "Port Scan on External IP"
   ]
  },
  {
   "cell_type": "markdown",
   "id": "52fd290c",
   "metadata": {},
   "source": [
    "```\n",
    "--------------------------------------------------\n",
    "Scanning Target: 216.220.16.170\n",
    "Scanning started at:2025-07-18 22:12:17.055226\n",
    "--------------------------------------------------\n",
    "no ports open\n",
    "```"
   ]
  },
  {
   "cell_type": "markdown",
   "id": "c0ff7559",
   "metadata": {},
   "source": [
    "### Sample Prompt from Sponsor"
   ]
  },
  {
   "cell_type": "markdown",
   "id": "9c620255",
   "metadata": {},
   "source": [
    "Given this DNS DIG, Port scan of the website, Port scan of the firewall, and the answers to the security questionnaire, write a report on the cybersecurity readiness of the organization."
   ]
  },
  {
   "cell_type": "markdown",
   "id": "9c4655ea",
   "metadata": {},
   "source": [
    "### Example Report from Sponsor, Generated from ChatGPT"
   ]
  },
  {
   "cell_type": "markdown",
   "id": "cee3a633",
   "metadata": {},
   "source": [
    "**Cybersecurity Readiness Report for Valier School District**\n",
    "\n",
    "**Date:** July 18, 2025\n",
    "\n",
    "**1. Overview**\n",
    "\n",
    "This report evaluates the cybersecurity posture of Valier School District based on technical scans (DNS, DMARC, and port scanning) and a self-reported security questionnaire. The findings reflect a strong commitment to foundational cybersecurity practices across user access, email protection, network exposure, and staff awareness.\n",
    "\n",
    "**2. Organizational Information**\n",
    "- **Organization Name:** Valier School District\n",
    "- **Email Domain:** valier.k12.mt.us\n",
    "- **Website Domain:** www.valier.k12.mt.us\n",
    "- **External IP (Firewall):** 216.220.16.170\n",
    "- **Website Hosting IPs:** 216.239.32.21, 216.239.34.21, 216.239.36.21, 216.239.38.21\n",
    "- **DNS Hosting:** Managed by University of Montana (umt.edu nameservers)\n",
    "\n",
    "**3. Security Questionnaire Review**\n",
    "| Security Control | Status |\n",
    "| :--------------: | :----: |\n",
    "| MFA for Email | Yes |\n",
    "| MFA for Computer Login | Yes |\n",
    "| MFA for Sensitive Systems | Yes |\n",
    "| Acceptable Use Policy | Yes |\n",
    "| New Employee Security Awareness Training | Yes |\n",
    "| Annual All-Employee Security Training | Yes |\n",
    "\n",
    "**Summary:** The district reports complete implementation of basic cyber hygiene practices, especially user authentication (Multi-Factor Authentication) and routine training. This indicates a proactive and policy-driven approach to risk mitigation.\n",
    "\n",
    "**4. DNS & Email Security**\n",
    "\n",
    "**DNS Records**\n",
    "- DNS is managed by the University of Montana (cudess1.umt.edu, cudess2.umt.edu), suggesting centralized and professionally administered DNS.\n",
    "- A records point to IPs within Google's network (likely Google Sites hosting for web content).\n",
    "**MX Records (Email)**\n",
    "- The district uses Google Workspace (Gmail) for email, as shown by multiple aspmx.l.google.com MX records.\n",
    "- SPF record is correctly configured: v=spf1 include:_spf.google.com include:mg.infinitecampus.org -all\n",
    "    - This helps mitigate spoofing by defining authorized mail senders.\n",
    "**DMARC Record**\n",
    "- A valid DMARC record exists with a **reject** policy: v=DMARC1; p=reject; rua=mailto:dmarc@valier.k12.mt.us\n",
    "    - This instructs receiving servers to reject unauthenticated mail, providing strong protection against phishing.\n",
    "**Conclusion:** DNS and email protections (SPF, DMARC, and hosting security) are configured correctly and follow best practices.\n",
    "\n",
    "**5. Port Scanning Results**\n",
    "\n",
    "**Website Hosting (Google IP: 216.239.32.21)**\n",
    "- **Port 80 (HTTP):** Open\n",
    "- **Port 443 (HTTPS):** Open\n",
    "These are expected for a publicly accessible website and are typical for Google-hosted services.\n",
    "\n",
    "**Firewall / External IP (216.220.16.170)**\n",
    "- **All scanned ports are closed**\n",
    "This is a strong sign of network perimeter hardening and good firewall configuration. No externally exposed services were found on the organization's primary IP.\n",
    "\n",
    "**6. Risk Assessment & Readiness Summary**\n",
    "| Category | Status | Notes |\n",
    "| :------: | :----: | :---: |\n",
    "| Authentication Security | Strong | MFA is required across key systems |\n",
    "| Email Security | Strong | SPF and DMARC with \"reject\" policy in place |\n",
    "| Network Exposure | Secure | No exposed services on the external firewall IP |\n",
    "| Web Hosting | Secure | Google-hosted; limited attack surface |\n",
    "| Policy & Training | Comprehensive | Acceptable use policies and regular training in place |\n",
    "\n",
    "**7. Recommendations**\n",
    "Although the cybersecurity readiness is solid, continuous improvement is essential. We recommend the following:\n",
    "1. **Verify DKIM**: While SPF and DMARC are configured, ensure **DKIM** is also active for all sending domains.\n",
    "2. **Vulnerability Scanning**: Consider regular internal and external vulnerability assessments of network devices and servers.\n",
    "3. **Incident Response Plan**: Document and regularly test a cybersecurity incident reponse and disaster recovery plan.\n",
    "4. **Asset Inventory**: Maintain a regularly updated inventory of hardware/software assets and monitor for unauthorized changes.\n",
    "5. **Third-party Risk**: Evaluate vendors (e.g., Infinite Campus) for their security psture, especially since they're included in SPF.\n",
    "\n",
    "**8. Conclusion**\n",
    "\n",
    "Valier School District demonstrates a strong cybersecurity foundation, particularly in authentication, email protection, staff training, and perimeter security. Continued vigilance and regular audits will help maintain and improve this strong security posture.\n",
    "\n",
    "**Prepared by:**\n",
    "\n",
    "Cybersecurity Assessment Team\n",
    "\n",
    "**Date:** July 18, 2025"
   ]
  },
  {
   "cell_type": "markdown",
   "id": "95457b58",
   "metadata": {},
   "source": [
    "## Testing Gemini API"
   ]
  },
  {
   "cell_type": "markdown",
   "id": "b85e183e",
   "metadata": {},
   "source": [
    "[Gemini Models](https://ai.google.dev/gemini-api/docs/models)"
   ]
  },
  {
   "cell_type": "code",
   "execution_count": 3,
   "id": "627d9dbc",
   "metadata": {},
   "outputs": [
    {
     "name": "stderr",
     "output_type": "stream",
     "text": [
      "c:\\Users\\victo\\anaconda3\\envs\\sd2\\lib\\site-packages\\tqdm\\auto.py:21: TqdmWarning: IProgress not found. Please update jupyter and ipywidgets. See https://ipywidgets.readthedocs.io/en/stable/user_install.html\n",
      "  from .autonotebook import tqdm as notebook_tqdm\n"
     ]
    }
   ],
   "source": [
    "import os\n",
    "import google.generativeai as genai\n",
    "from dotenv import load_dotenv, find_dotenv\n",
    "\n",
    "load_dotenv(find_dotenv())\n",
    "genai.configure(api_key=os.environ[\"GEMINI_API_KEY\"])\n",
    "model = genai.GenerativeModel('gemini-2.5-pro')"
   ]
  },
  {
   "cell_type": "code",
   "execution_count": 4,
   "id": "551274c3",
   "metadata": {},
   "outputs": [
    {
     "name": "stdout",
     "output_type": "stream",
     "text": [
      "Of course! Here is an explanation of cybersecurity in simple terms, using an analogy.\n",
      "\n",
      "### Imagine Your Digital Life is a House\n",
      "\n",
      "Think of all your online information—your email, bank account, social media, photos—as being inside your house.\n",
      "\n",
      "*   **Your Data is Your Stuff:** Your money, photos, and private documents are the valuable things you keep inside.\n",
      "*   **Your Devices are the Doors & Windows:** Your phone, laptop, and tablet are the ways to get into your house.\n",
      "*   **Your Passwords are the Keys:** You need the right key to open a door.\n",
      "\n",
      "**Cybersecurity, in this case, is simply your home security system.**\n",
      "\n",
      "It’s everything you do to protect your house and the valuable stuff inside from burglars (hackers and scammers).\n",
      "\n",
      "---\n",
      "\n",
      "### What a Home Security System (Cybersecurity) Includes:\n",
      "\n",
      "1.  **Strong Locks (Strong Passwords)**\n",
      "    You wouldn't use the same flimsy key for your front door, back door, and car. Similarly, you should use different, complex passwords for each of your online accounts. A bad password like \"12345\" is like leaving your key under the doormat.\n",
      "\n",
      "2.  **A Deadbolt or Second Lock (Two-Factor Authentication - 2FA)**\n",
      "    This is one of the best security upgrades you can make. It means that even if a burglar steals your key (your password), they still can't get in because they also need a second thing, like a special code sent to your phone. It's like needing a key *and* a fingerprint to open the door.\n",
      "\n",
      "3.  **Checking Who's at the Door (Avoiding Phishing Scams)**\n",
      "    Sometimes, a scammer will dress up as a delivery person or a utility worker to trick you into opening the door. This is what a \"phishing\" email or text is. It looks like it's from a company you trust (like your bank or Amazon) and tries to trick you into giving them your key (password) or letting them into your house. Cybersecurity means being suspicious and not just opening the door to anyone.\n",
      "\n",
      "4.  **An Alarm System (Antivirus & Firewalls)**\n",
      "    This is software that actively looks for burglars trying to sneak in. Antivirus software detects and removes bad programs (malware) that could spy on you or damage your things. A firewall acts like a security guard at your gate, checking who is allowed to come in and go out.\n",
      "\n",
      "5.  **Fixing Cracks in the Walls (Software Updates)**\n",
      "    Over time, small cracks or weaknesses might appear in your house's foundation or walls. Software updates are like a construction crew that comes to fix those weak spots so burglars can't exploit them to get in. That's why it's so important to keep your apps and devices updated.\n",
      "\n",
      "---\n",
      "\n",
      "### In a Nutshell:\n",
      "\n",
      "**Cybersecurity is the practice of keeping your digital life safe.** It's not just about technology; it's also about habits. Just like you lock your doors at night, good cybersecurity involves creating strong passwords, being cautious about suspicious messages, and keeping your software up-to-date to protect your valuable information from people who want to steal it.\n"
     ]
    }
   ],
   "source": [
    "# Test response\n",
    "response = model.generate_content(\"Explain the concept of cybersecurity in simple terms.\")\n",
    "print(response.text)"
   ]
  },
  {
   "cell_type": "code",
   "execution_count": null,
   "id": "4e4fedce",
   "metadata": {},
   "outputs": [
    {
     "name": "stdout",
     "output_type": "stream",
     "text": [
      "=======  Example ==========\n",
      "Example:\n",
      "Prompt:\n",
      "{\"text\": \"Given this DNS DIG, Port scan of the website, Port scan of the firewall, and the answers to the security questionnaire, write a report on the cybersecurity readiness of the organization.\"}\n",
      "Context:\n",
      "test_questionnaire.json:\n",
      "{\n",
      "  \"text\": {\n",
      "    \"Organization Name\": \"Valier School District\",\n",
      "    \"Email Domain\": \"valier.k12.mt.us\",\n",
      "    \"Website Domain\": \"www.valier.k12.mt.us\",\n",
      "    \"External IP\": \"216.220.16.170\",\n",
      "    \"Do you require MFA to access email?\": \"Yes\",\n",
      "    \"Do you require MFA to log into computers?\": \"Yes\",\n",
      "    \"Do you require MFA to access sensitive data systems?\": \"Yes\",\n",
      "    \"Does your organization have an employee acceptable use policy?\": \"Yes\",\n",
      "    \"Does your organization do security awareness training for new employees?\": \"Yes\",\n",
      "    \"Does your organization do security awareness training for all employees at least once per year?\": \"Yes\"\n",
      "  }\n",
      "}\n",
      "--\n",
      "test_port_scan_external_ip.json:\n",
      "{\n",
      "  \"text\": \"--------------------------------------------------\\nScanning Target: 216.220.16.170\\nScanning started at:2025-07-18 22:12:17.055226\\n--------------------------------------------------\\nno ports open\\n\"\n",
      "}\n",
      "--\n",
      "test_port_scan_web.json:\n",
      "{\n",
      "  \"text\": \"--------------------------------------------------\\nScanning Target: 216.239.32.21\\nScanning started at:2025-07-18 22:09:34.408091\\n--------------------------------------------------\\nPort 80 is open\\nPort 443 is open\\n\"\n",
      "}\n",
      "--\n",
      "test_dns_dig_email.json:\n",
      "{\n",
      "  \"text\": \"id 49113\\nopcode QUERY\\nrcode NOERROR\\nflags QR RD RA\\n;QUESTION\\nvalier.k12.mt.us. IN ANY\\n;ANSWER\\nvalier.k12.mt.us. 3600 IN SOA cudess1.umt.edu. dns-request.umt.edu. 2024030501 21600 900 1209600 86400\\nvalier.k12.mt.us. 3600 IN NS ens-o1.umt.edu.\\nvalier.k12.mt.us. 3600 IN NS cudess2.umt.edu.\\nvalier.k12.mt.us. 3600 IN NS cudess1.umt.edu.\\nvalier.k12.mt.us. 3600 IN A 216.239.38.21\\nvalier.k12.mt.us. 3600 IN A 216.239.32.21\\nvalier.k12.mt.us. 3600 IN A 216.239.34.21\\nvalier.k12.mt.us. 3600 IN A 216.239.36.21\\nvalier.k12.mt.us. 3600 IN MX 1 aspmx.l.google.com.\\nvalier.k12.mt.us. 3600 IN MX 10 aspmx2.googlemail.com.\\nvalier.k12.mt.us. 3600 IN MX 10 aspmx3.googlemail.com.\\nvalier.k12.mt.us. 3600 IN MX 5 alt1.aspmx.l.google.com.\\nvalier.k12.mt.us. 3600 IN MX 5 alt2.aspmx.l.google.com.\\nvalier.k12.mt.us. 3600 IN TXT \\\"v=spf1 include:_spf.google.com include:mg.infinitecampus.org -all\\\"\\n;AUTHORITY\\n;ADDITIONAL\\n\"\n",
      "}\n",
      "--\n",
      "test_dns_dig_email_dmarc.json:\n",
      "{\n",
      "  \"text\": \"id 45565\\nopcode QUERY\\nrcode NOERROR\\nflags QR RD RA\\n;QUESTION\\n_dmarc.valier.k12.mt.us. IN ANY\\n;ANSWER\\n_dmarc.valier.k12.mt.us. 3600 IN TXT \\\"v=DMARC1; p=reject; rua=mailto:dmarc@valier.k12.mt.us\\\"\\n;AUTHORITY\\n;ADDITIONAL\\n\"\n",
      "}\n",
      "--\n",
      "test_sample_report.json:\n",
      "{\n",
      "  \"text\": \"**Cybersecurity Readiness Report for Valier School District**\\n\\n**Date:** July 18, 2025\\n\\n**1. Overview**\\n\\nThis report evaluates the cybersecurity posture of Valier School District based on technical scans (DNS, DMARC, and port scanning) and a self-reported security questionnaire. The findings reflect a strong commitment to foundational cybersecurity practices across user access, email protection, network exposure, and staff awareness.\\n\\n**2. Organizational Information**\\n- **Organization Name:** Valier School District\\n- **Email Domain:** valier.k12.mt.us\\n- **Website Domain:** www.valier.k12.mt.us\\n- **External IP (Firewall):** 216.220.16.170\\n- **Website Hosting IPs:** 216.239.32.21, 216.239.34.21, 216.239.36.21, 216.239.38.21\\n- **DNS Hosting:** Managed by University of Montana (umt.edu nameservers)\\n\\n**3. Security Questionnaire Review**\\n| Security Control | Status |\\n| :--------------: | :----: |\\n| MFA for Email | Yes |\\n| MFA for Computer Login | Yes |\\n| MFA for Sensitive Systems | Yes |\\n| Acceptable Use Policy | Yes |\\n| New Employee Security Awareness Training | Yes |\\n| Annual All-Employee Security Training | Yes |\\n\\n**Summary:** The district reports complete implementation of basic cyber hygiene practices, especially user authentication (Multi-Factor Authentication) and routine training. This indicates a proactive and policy-driven approach to risk mitigation.\\n\\n**4. DNS & Email Security**\\n\\n**DNS Records**\\n- DNS is managed by the University of Montana (cudess1.umt.edu, cudess2.umt.edu), suggesting centralized and professionally administered DNS.\\n- A records point to IPs within Google's network (likely Google Sites hosting for web content).\\n**MX Records (Email)**\\n- The district uses Google Workspace (Gmail) for email, as shown by multiple aspmx.l.google.com MX records.\\n- SPF record is correctly configured: v=spf1 include:_spf.google.com include:mg.infinitecampus.org -all\\n\\t- This helps mitigate spoofing by defining authorized mail senders./n**DMARC Record**/n- A valid DMARC record exists with a **reject** policy: v=DMARC1; p=reject; rua=mailto:dmarc@valier.k12.mt.us\\n\\t- This instructs receiving servers to reject unauthenticated mail, providing strong protection against phishing./n**Conclusion:** DNS and email protections (SPF, DMARC, and hosting security) are configured correctly and follow best practices.\\n\\n**5. Port Scanning Results**\\n\\n**Website Hosting (Google IP: 216.239.32.21)**\\n- **Port 80 (HTTP):** Open\\n- **Port 443 (HTTPS):** Open\\nThese are expected for a publicly accessible website and are typical for Google-hosted services.\\n\\n**Firewall / External IP (216.220.16.170)**\\n- **All scanned ports are closed**\\nThis is a strong sign of network perimeter hardening and good firewall configuration. No externally exposed services were found on the organization's primary IP.\\n\\n**6. Risk Assessment & Readiness Summary**\\n| Category | Status | Notes |\\n| :------: | :----: | :---: |\\n| Authentication Security | Strong | MFA is required across key systems |\\n| Email Security | Strong | SPF and DMARC with \\\"reject\\\" policy in place |\\n| Network Exposure | Secure | No exposed services on the external firewall IP |\\n| Web Hosting | Secure | Google-hosted; limited attack surface |\\n| Policy & Training | Comprehensive | Acceptable use policies and regular training in place |\\n\\n**7. Recommendations**\\nAlthough the cybersecurity readiness is solid, continuous improvement is essential. We recommend the following:\\n1. **Verify DKIM**: While SPF and DMARC are configured, ensure **DKIM** is also active for all sending domains.\\n2. **Vulnerability Scanning**: Consider regular internal and external vulnerability assessments of network devices and servers.\\n3. **Incident Response Plan**: Document and regularly test a cybersecurity incident reponse and disaster recovery plan.\\n4. **Asset Inventory**: Maintain a regularly updated inventory of hardware/software assets and monitor for unauthorized changes.\\n5. **Third-party Risk**: Evaluate vendors (e.g., Infinite Campus) for their security psture, especially since they're included in SPF.\\n\\n**8. Conclusion**\\n\\nValier School District demonstrates a strong cybersecurity foundation, particularly in authentication, email protection, staff training, and perimeter security. Continued vigilance and regular audits will help maintain and improve this strong security posture.\\n\\n**Prepared by:**\\n\\nCybersecurity Assessment Team\\n\\n**Date:** July 18, 2025\"\n",
      "}\n",
      "--\n",
      "\n",
      "===========================\n",
      "======== Sample 1 =========\n",
      "Prompt:\n",
      "{\"text\": \"Given this DNS DIG, Port scan of the website, Port scan of the firewall, and the answers to the security questionnaire, write a report on the cybersecurity readiness of the organization.\"}\n",
      "Context:\n",
      "sample1_questionnaire.json:\n",
      "{\n",
      "  \"text\": {\n",
      "    \"Organization Name\": \"Apex Innovations\",\n",
      "    \"Email Domain\": \"apexinnovations.com\",\n",
      "    \"Website Domain\": \"www.apexinnovations.com\",\n",
      "    \"External IP\": \"72.21.196.160\",\n",
      "    \"Do you require MFA to access email?\": \"Yes\",\n",
      "    \"Do you require MFA to log into computers?\": \"Yes\",\n",
      "    \"Do you require MFA to access sensitive data systems?\": \"Yes\",\n",
      "    \"Does your organization have an employee acceptable use policy?\": \"Yes\",\n",
      "    \"Does your organization do security awareness training for new employees?\": \"Yes\",\n",
      "    \"Does your organization do security awareness training for all employees at least once per year?\": \"Yes\"\n",
      "  }\n",
      "}\n",
      "--\n",
      "sample1_dns_dig_email_dmarc.json:\n",
      "{\n",
      "  \"text\": \"id 31890\\nopcode QUERY\\nrcode NOERROR\\nflags QR RD RA\\n;QUESTION\\n_dmarc.apexinnovations.com. IN ANY\\n;ANSWER\\n_dmarc.apexinnovations.com. 3600 IN TXT \\\"v=DMARC1; p=reject; rua=mailto:dmarc_reports@apexinnovations.com; fo=1\\\"\"\n",
      "}\n",
      "--\n",
      "sample1_dns_dig_email.json:\n",
      "{\n",
      "  \"text\": \"id 52417\\nopcode QUERY\\nrcode NOERROR\\nflags QR RD RA\\n;QUESTION\\napexinnovations.com. IN ANY\\n;ANSWER\\napexinnovations.com. 3600 IN SOA ns1.apexinnovations.com. hostmaster.apexinnovations.com. 2025101401 21600 3600 604800 3600\\napexinnovations.com. 3600 IN NS ns1.apexinnovations.com.\\napexinnovations.com. 3600 IN NS ns2.apexinnovations.com.\\napexinnovations.com. 3600 IN A 72.21.196.160\\napexinnovations.com. 3600 IN MX 10 mx1.apexinnovations.com.\\napexinnovations.com. 3600 IN MX 20 mx2.apexinnovations.com.\\napexinnovations.com. 3600 IN TXT \\\"v=spf1 include:spf.protection.outlook.com -all\\\"\"\n",
      "}\n",
      "--\n",
      "sample1_port_scan_external_ip.json:\n",
      "{\n",
      "  \"text\": \"--------------------------------------------------\\nScanning Target: 72.21.196.160\\nScanning started at: 2025-10-14 14:09:42.589112\\n--------------------------------------------------\\nPort 80 is open\\nPort 443 is open\"\n",
      "}\n",
      "--\n",
      "sample1_port_scan_web.json:\n",
      "{\n",
      "  \"text\": \"--------------------------------------------------\\nScanning Target: 72.21.196.160\\nScanning started at: 2025-10-14 14:08:15.223456\\n--------------------------------------------------\\nPort 80 is open\\nPort 443 is open\"\n",
      "}\n",
      "--\n",
      "\n",
      "===========================\n",
      "======== Sample 2 =========\n",
      "Prompt:\n",
      "{\"text\": \"Given this DNS DIG, Port scan of the website, Port scan of the firewall, and the answers to the security questionnaire, write a report on the cybersecurity readiness of the organization.\"}{\"text\": \"Given this DNS DIG, Port scan of the website, Port scan of the firewall, and the answers to the security questionnaire, write a report on the cybersecurity readiness of the organization.\"}\n",
      "Context:\n",
      "sample2_questionnaire.json:\n",
      "{\n",
      "  \"text\": {\n",
      "    \"Organization Name\": \"G.A.S. Inc.\",\n",
      "    \"Email Domain\": \"gasinc.net\",\n",
      "    \"Website Domain\": \"www.gasinc.net\",\n",
      "    \"External IP\": \"104.28.1.189\",\n",
      "    \"Do you require MFA to access email?\": \"No\",\n",
      "    \"Do you require MFA to log into computers?\": \"No\",\n",
      "    \"Do you require MFA to access sensitive data systems?\": \"Yes\",\n",
      "    \"Does your organization have an employee acceptable use policy?\": \"No\",\n",
      "    \"Does your organization do security awareness training for new employees?\": \"No\",\n",
      "    \"Does your organization do security awareness training for all employees at least once per year?\": \"No\"\n",
      "  }\n",
      "}\n",
      "--\n",
      "sample2_dns_dig_email_dmarc.json:\n",
      "{\n",
      "  \"text\": \"id 28911\\nopcode QUERY\\nrcode NXDOMAIN\\nflags QR AA RD RA\\n;QUESTION\\n_dmarc.gasinc.net. IN ANY\\n;AUTHORITY\\ngasinc.net. 3600 IN SOA dns1.gasinc.net. hostmaster.gasinc.net. 2025101402 14400 3600 604800 3600\\n;ADDITIONAL\"\n",
      "}\n",
      "--\n",
      "sample2_dns_dig_email.json:\n",
      "{\n",
      "  \"text\": \"id 47123\\nopcode QUERY\\nrcode NOERROR\\nflags QR RD RA\\n;QUESTION\\ngasinc.net. IN ANY\\n;ANSWER\\ngasinc.net. 3600 IN SOA dns1.gasinc.net. hostmaster.gasinc.net. 2025101402 14400 3600 604800 3600\\ngasinc.net. 3600 IN NS dns1.gasinc.net.\\ngasinc.net. 3600 IN NS dns2.gasinc.net.\\ngasinc.net. 3600 IN A 104.28.1.189\\ngasinc.net. 3600 IN MX 10 mx.mailhostbox.com.\\ngasinc.net. 3600 IN MX 20 mx2.mailhostbox.com.\\ngasinc.net. 3600 IN TXT \\\"v=spf1 include:spf.mailhostbox.com ~all\\\"\"\n",
      "}\n",
      "--\n",
      "sample2_port_scan_external_ip.json:\n",
      "{\n",
      "  \"text\": \"--------------------------------------------------\\nScanning Target: 104.28.1.189\\nScanning started at: 2025-10-14 14:16:11.890123\\n--------------------------------------------------\\nPort 21 is open\\nPort 22 is open\\nPort 25 is open\\nPort 80 is open\\nPort 110 is open\\nPort 443 is open\\nPort 3389 is open\"\n",
      "}\n",
      "--\n",
      "sample2_port_scan_web.json:\n",
      "{\n",
      "  \"text\": \"--------------------------------------------------\\nScanning Target: 104.28.1.189\\nScanning started at: 2025-10-14 14:15:30.456789\\n--------------------------------------------------\\nPort 80 is open\\nPort 443 is open\"\n",
      "}\n",
      "--\n",
      "\n",
      "===========================\n"
     ]
    }
   ],
   "source": [
    "import json\n",
    "\n",
    "model = genai.GenerativeModel('gemini-2.5-pro')\n",
    "\n",
    "prompt_text = 'Prompt:\\nGiven this DNS DIG, Port scan of the website, Port scan of the firewall, and the answers to the security questionnaire, write a report on the cybersecurity readiness of the organization.'\n",
    "\n",
    "context1_text = 'Context:\\n'\n",
    "context2_text = 'Context:\\n'\n",
    "\n",
    "example_text = 'Example:\\n' + prompt_text\n",
    "\n",
    "filepaths = [\"test_questionnaire.json\", \"test_port_scan_external_ip.json\", \"test_port_scan_web.json\", \"test_dns_dig_email.json\", \"test_dns_dig_email_dmarc.json\", \"test_sample_report.json\"]\n",
    "sample1_filepaths = [\"sample1_questionnaire.json\", \"sample1_dns_dig_email_dmarc.json\" ,\"sample1_dns_dig_email.json\", \"sample1_port_scan_external_ip.json\", \"sample1_port_scan_web.json\"]\n",
    "sample2_filepaths = [\"sample2_questionnaire.json\", \"sample2_dns_dig_email_dmarc.json\", \"sample2_dns_dig_email.json\", \"sample2_port_scan_external_ip.json\", \"sample2_port_scan_web.json\"]\n",
    "\n",
    "for file in filepaths:\n",
    "    try:\n",
    "        with open(file, 'r', encoding='utf-8') as f:\n",
    "            data = json.load(f)\n",
    "            example_text += f\"{file}:\\n{json.dumps(data,indent=2)}\\n--\\n\"\n",
    "\n",
    "    except FileNotFoundError:\n",
    "        f\"[ERROR] File not found at path: {file}\"\n",
    "    except json.JSONDecodeError:\n",
    "        f\"[ERROR] Failed to decode JSON from file: {file}. Please check the file's syntax\"\n",
    "    except Exception as e:\n",
    "        f\"[ERROR] An unexpected error occurred: {e}\"\n",
    "\n",
    "print(\"=======  Example ==========\")\n",
    "print(example_text)\n",
    "print(\"===========================\")\n",
    "\n",
    "for file in sample1_filepaths:\n",
    "    try:\n",
    "        with open(file, 'r', encoding='utf-8') as f:\n",
    "            data = json.load(f)\n",
    "            context1_text += f\"{file}:\\n{json.dumps(data,indent=2)}\\n--\\n\"\n",
    "\n",
    "    except FileNotFoundError:\n",
    "        f\"[ERROR] File not found at path: {file}\"\n",
    "    except json.JSONDecodeError:\n",
    "        f\"[ERROR] Failed to decode JSON from file: {file}. Please check the file's syntax\"\n",
    "    except Exception as e:\n",
    "        f\"[ERROR] An unexpected error occurred: {e}\"\n",
    "\n",
    "print(\"======== Sample 1 =========\")\n",
    "print(prompt_text)\n",
    "print(context1_text)\n",
    "print(\"===========================\")\n",
    "\n",
    "for file in sample2_filepaths:\n",
    "    try:\n",
    "        with open(file, 'r', encoding='utf-8') as f:\n",
    "            data = json.load(f)\n",
    "            context2_text += f\"{file}:\\n{json.dumps(data,indent=2)}\\n--\\n\"\n",
    "\n",
    "    except FileNotFoundError:\n",
    "        f\"[ERROR] File not found at path: {file}\"\n",
    "    except json.JSONDecodeError:\n",
    "        f\"[ERROR] Failed to decode JSON from file: {file}. Please check the file's syntax\"\n",
    "    except Exception as e:\n",
    "        f\"[ERROR] An unexpected error occurred: {e}\"\n",
    "\n",
    "print(\"======== Sample 2 =========\")\n",
    "print(prompt_text)\n",
    "print(context2_text)\n",
    "print(\"===========================\")"
   ]
  },
  {
   "cell_type": "code",
   "execution_count": 36,
   "id": "5d50c604",
   "metadata": {},
   "outputs": [],
   "source": [
    "import json\n",
    "import markdown\n",
    "import google.generativeai as genai\n",
    "import re\n",
    "\n",
    "def markdown_to_html(text_content, output_filename=\"output.html\"):\n",
    "    try:\n",
    "        json_match = re.search(r'```json\\s*(.*?)\\s*```', text_content, re.DOTALL)\n",
    "        if json_match:\n",
    "            json_string = json_match.group(1).strip()\n",
    "            try:\n",
    "                data = json.loads(json_string)\n",
    "                markdown_content = data.get(\"text\", \"\")\n",
    "            except json.JSONDecodeError:\n",
    "                print(\"Warning: JSON inside the code block is not valid. Treating entire content as plain text.\")\n",
    "                markdown_content = text_content\n",
    "        else:\n",
    "            try:\n",
    "                data = json.loads(text_content)\n",
    "                markdown_content = data.get(\"text\", \"\")\n",
    "            except json.JSONDecodeError:\n",
    "                markdown_content = text_content\n",
    "\n",
    "        if isinstance(markdown_content, str):\n",
    "            html_output = markdown.markdown(markdown_content, extensions=['tables', 'fenced_code'])\n",
    "        else:\n",
    "            print(f\"Error: Markdown content is not a string, it's a {type(markdown_content)}\")\n",
    "\n",
    "        full_html = f\"\"\"\n",
    "<!DOCTYPE html>\n",
    "<html lang=\"en\">\n",
    "<head>\n",
    "    <meta charset=\"UTF-8\">\n",
    "    <meta name=\"viewport\" content=\"width=device-width, initial-scale=1.0\">\n",
    "    <title>Markdown Export</title>\n",
    "    <style>\n",
    "        body {{ font-family: sans-serif; line-height: 1.6; margin: 2rem; }}\n",
    "        h1, h2, h3, h4, h5, h6 {{ color: #333; }}\n",
    "        pre {{ background-color: #f4f4f4; padding: 1rem; border-radius: 5px; overflow-x: auto; }}\n",
    "        code {{ font-family: monospace; }}\n",
    "        blockquote {{ border-left: 4px solid #ccc; padding-left: 1rem; color: #666; }}\n",
    "        table {{ border-collapse: collapse; width: 100%; margin: 1rem 0; }}\n",
    "        th, td {{ border: 1px solid #ddd; padding: 8px; text-align: left; }}\n",
    "        th {{ background-color: #f2f2f2; }}\n",
    "    </style>\n",
    "</head>\n",
    "<body>\n",
    "{html_output}\n",
    "</body>\n",
    "</html>\n",
    "\"\"\"\n",
    "        with open(output_filename, \"w\", encoding=\"utf-8\") as f:\n",
    "            f.write(full_html)\n",
    "\n",
    "        print(f\"Successfully converted Markdown to {output_filename}\")\n",
    "\n",
    "    except Exception as e:\n",
    "        print(f\"An unexpected error occurred: {e}\")"
   ]
  },
  {
   "cell_type": "code",
   "execution_count": null,
   "id": "e9b25f39",
   "metadata": {},
   "outputs": [
    {
     "name": "stdout",
     "output_type": "stream",
     "text": [
      "Successfully converted Markdown to sample1_output_no_prompting.html\n"
     ]
    }
   ],
   "source": [
    "# No cleaning up of the data\n",
    "response = model.generate_content(contents=[prompt_text, context1_text + \"\\n\" + example_text])\n",
    "print(response.text)\n",
    "markdown_to_html(response.text, \"sample1_output_no_prompting.html\")"
   ]
  },
  {
   "cell_type": "code",
   "execution_count": null,
   "id": "aa312930",
   "metadata": {},
   "outputs": [
    {
     "name": "stdout",
     "output_type": "stream",
     "text": [
      "Successfully converted Markdown to sample2_output_no_prompting.html\n"
     ]
    }
   ],
   "source": [
    "# No cleaning up of the data\n",
    "response = model.generate_content(contents=[prompt_text, context2_text + \"\\n\" + example_text])\n",
    "print(response.text)\n",
    "markdown_to_html(response.text, \"sample2_output_no_prompting.html\")"
   ]
  },
  {
   "cell_type": "code",
   "execution_count": null,
   "id": "3a102165",
   "metadata": {},
   "outputs": [
    {
     "name": "stdout",
     "output_type": "stream",
     "text": [
      "Successfully converted Markdown to sample1_output_markdown_prompt.html\n",
      "Successfully converted Markdown to sample2_output_markdown_prompt.html\n"
     ]
    }
   ],
   "source": [
    "prompt_text = 'Prompt:\\nGiven this DNS DIG, Port scan of the website, Port scan of the firewall, and the answers to the security questionnaire, write a report on the cybersecurity readiness of the organization. Please respond in markdown format.'\n",
    "\n",
    "response = model.generate_content(contents=[prompt_text, context1_text + \"\\n\" + example_text])\n",
    "print(response.text)\n",
    "markdown_to_html(response.text, \"sample1_output_markdown_prompt.html\")\n",
    "\n",
    "print(\"==============================\")\n",
    "\n",
    "response = model.generate_content(contents=[prompt_text, context2_text + \"\\n\" + example_text])\n",
    "print(response.text)\n",
    "markdown_to_html(response.text, \"sample2_output_markdown_prompt.html\")"
   ]
  }
 ],
 "metadata": {
  "kernelspec": {
   "display_name": "sd2",
   "language": "python",
   "name": "python3"
  },
  "language_info": {
   "codemirror_mode": {
    "name": "ipython",
    "version": 3
   },
   "file_extension": ".py",
   "mimetype": "text/x-python",
   "name": "python",
   "nbconvert_exporter": "python",
   "pygments_lexer": "ipython3",
   "version": "3.10.18"
  }
 },
 "nbformat": 4,
 "nbformat_minor": 5
}
