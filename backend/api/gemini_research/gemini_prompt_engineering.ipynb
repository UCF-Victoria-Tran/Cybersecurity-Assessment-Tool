{
 "cells": [
  {
   "cell_type": "markdown",
   "id": "88e8008c",
   "metadata": {},
   "source": [
    "## Gemini Prompt Engineering Notes"
   ]
  },
  {
   "cell_type": "markdown",
   "id": "c24f1c6e",
   "metadata": {},
   "source": [
    "Prompt engineering helps improve the quality, relevance, and consistency of AI outputs. To increase the likelihood of the Gemini API to generate a similar report to the one our sponsor provided, we will be testing structured, specific prompts to control the model's randomness and prevent having to expend resources to train a model."
   ]
  },
  {
   "cell_type": "markdown",
   "id": "40fe1196",
   "metadata": {},
   "source": [
    "Gemini API Structure:\n",
    "- User Inputs: Multimodal, allows prompts to include text, images, video, and audio\n",
    "- System Instructions: Guide the model's behavior and provide context for the entire user interaction. We will definetly specify the output format to ensure it is saved into the database correctly.\n",
    "    - Plan to test: Persona/role, output style/tone\n",
    "- Configuration Parameters: Control content generation and fine-tune the model's reponse."
   ]
  },
  {
   "cell_type": "markdown",
   "id": "bd75a36e",
   "metadata": {},
   "source": [
    "### Data From Sponsor"
   ]
  },
  {
   "cell_type": "markdown",
   "id": "e7b5fd2a",
   "metadata": {},
   "source": [
    "Questionnaire / Organization Profile Example"
   ]
  },
  {
   "cell_type": "markdown",
   "id": "15947b11",
   "metadata": {},
   "source": [
    "| Org Name | Email Domain | Website Domain | External IP | Do you require MFA to access email? | Do you require MFA to log into computers? | Do you require MFA to access sensitive data systems? | Does your organization have an employee acceptable use policy? | Does your organization do security awareness training for new employees? | Does your organization do security awareness training for all employees at least once per year? |\n",
    "| :---: | :---: | :--: | :--: | :--: | :--: | :--: | :--: | :--: | :--: |\n",
    "| Valier School District | valier.k12.mt.us | www.valier.k12.mt.us | 216.220.16.170 | Yes | Yes | Yes | Yes | Yes | Yes |"
   ]
  },
  {
   "cell_type": "markdown",
   "id": "187234f0",
   "metadata": {},
   "source": [
    "DNS DIG on Email Domain"
   ]
  },
  {
   "cell_type": "markdown",
   "id": "7c14b32f",
   "metadata": {},
   "source": [
    "``` \n",
    "id 49113\n",
    "opcode QUERY\n",
    "rcode NOERROR\n",
    "flags QR RD RA\n",
    ";QUESTION\n",
    "valier.k12.mt.us. IN ANY\n",
    ";ANSWER\n",
    "valier.k12.mt.us. 3600 IN SOA cudess1.umt.edu. dns-request.umt.edu. 2024030501 21600 900 1209600 86400\n",
    "valier.k12.mt.us. 3600 IN NS ens-o1.umt.edu.\n",
    "valier.k12.mt.us. 3600 IN NS cudess2.umt.edu.\n",
    "valier.k12.mt.us. 3600 IN NS cudess1.umt.edu.\n",
    "valier.k12.mt.us. 3600 IN A 216.239.38.21\n",
    "valier.k12.mt.us. 3600 IN A 216.239.32.21\n",
    "valier.k12.mt.us. 3600 IN A 216.239.34.21\n",
    "valier.k12.mt.us. 3600 IN A 216.239.36.21\n",
    "valier.k12.mt.us. 3600 IN MX 1 aspmx.l.google.com.\n",
    "valier.k12.mt.us. 3600 IN MX 10 aspmx2.googlemail.com.\n",
    "valier.k12.mt.us. 3600 IN MX 10 aspmx3.googlemail.com.\n",
    "valier.k12.mt.us. 3600 IN MX 5 alt1.aspmx.l.google.com.\n",
    "valier.k12.mt.us. 3600 IN MX 5 alt2.aspmx.l.google.com.\n",
    "valier.k12.mt.us. 3600 IN TXT \"v=spf1 include:_spf.google.com include:mg.infinitecampus.org -all\"\n",
    ";AUTHORITY\n",
    ";ADDITIONAL\n",
    "```"
   ]
  },
  {
   "cell_type": "markdown",
   "id": "359b9c25",
   "metadata": {},
   "source": [
    "DNS DIG on Email DMARC Domain"
   ]
  },
  {
   "cell_type": "markdown",
   "id": "36b2d367",
   "metadata": {},
   "source": [
    "```\n",
    "id 45565\n",
    "opcode QUERY\n",
    "rcode NOERROR\n",
    "flags QR RD RA\n",
    ";QUESTION\n",
    "_dmarc.valier.k12.mt.us. IN ANY\n",
    ";ANSWER\n",
    "_dmarc.valier.k12.mt.us. 3600 IN TXT \"v=DMARC1; p=reject; rua=mailto:dmarc@valier.k12.mt.us\"\n",
    ";AUTHORITY\n",
    ";ADDITIONAL\n",
    "```"
   ]
  },
  {
   "cell_type": "markdown",
   "id": "9c2795d4",
   "metadata": {},
   "source": [
    "Port Scan on Web"
   ]
  },
  {
   "cell_type": "markdown",
   "id": "eda1a722",
   "metadata": {},
   "source": [
    "```\n",
    "--------------------------------------------------\n",
    "Scanning Target: 216.239.32.21\n",
    "Scanning started at:2025-07-18 22:09:34.408091\n",
    "--------------------------------------------------\n",
    "Port 80 is open\n",
    "Port 443 is open\n",
    "```"
   ]
  },
  {
   "cell_type": "markdown",
   "id": "ebd92451",
   "metadata": {},
   "source": [
    "Port Scan on External IP"
   ]
  },
  {
   "cell_type": "markdown",
   "id": "52fd290c",
   "metadata": {},
   "source": [
    "```\n",
    "--------------------------------------------------\n",
    "Scanning Target: 216.220.16.170\n",
    "Scanning started at:2025-07-18 22:12:17.055226\n",
    "--------------------------------------------------\n",
    "no ports open\n",
    "```"
   ]
  },
  {
   "cell_type": "markdown",
   "id": "c0ff7559",
   "metadata": {},
   "source": [
    "### Sample Prompt from Sponsor"
   ]
  },
  {
   "cell_type": "markdown",
   "id": "9c620255",
   "metadata": {},
   "source": [
    "Given this DNS DIG, Port scan of the website, Port scan of the firewall, and the answers to the security questionnaire, write a report on the cybersecurity readiness of the organization."
   ]
  },
  {
   "cell_type": "markdown",
   "id": "9c4655ea",
   "metadata": {},
   "source": [
    "### Example Report from Sponsor, Generated from ChatGPT"
   ]
  },
  {
   "cell_type": "markdown",
   "id": "cee3a633",
   "metadata": {},
   "source": [
    "**Cybersecurity Readiness Report for Valier School District**\n",
    "\n",
    "**Date:** July 18, 2025\n",
    "\n",
    "**1. Overview**\n",
    "\n",
    "This report evaluates the cybersecurity posture of Valier School District based on technical scans (DNS, DMARC, and port scanning) and a self-reported security questionnaire. The findings reflect a strong commitment to foundational cybersecurity practices across user access, email protection, network exposure, and staff awareness.\n",
    "\n",
    "**2. Organizational Information**\n",
    "- **Organization Name:** Valier School District\n",
    "- **Email Domain:** valier.k12.mt.us\n",
    "- **Website Domain:** www.valier.k12.mt.us\n",
    "- **External IP (Firewall):** 216.220.16.170\n",
    "- **Website Hosting IPs:** 216.239.32.21, 216.239.34.21, 216.239.36.21, 216.239.38.21\n",
    "- **DNS Hosting:** Managed by University of Montana (umt.edu nameservers)\n",
    "\n",
    "**3. Security Questionnaire Review**\n",
    "| Security Control | Status |\n",
    "| :--------------: | :----: |\n",
    "| MFA for Email | Yes |\n",
    "| MFA for Computer Login | Yes |\n",
    "| MFA for Sensitive Systems | Yes |\n",
    "| Acceptable Use Policy | Yes |\n",
    "| New Employee Security Awareness Training | Yes |\n",
    "| Annual All-Employee Security Training | Yes |\n",
    "\n",
    "**Summary:** The district reports complete implementation of basic cyber hygiene practices, especially user authentication (Multi-Factor Authentication) and routine training. This indicates a proactive and policy-driven approach to risk mitigation.\n",
    "\n",
    "**4. DNS & Email Security**\n",
    "\n",
    "**DNS Records**\n",
    "- DNS is managed by the University of Montana (cudess1.umt.edu, cudess2.umt.edu), suggesting centralized and professionally administered DNS.\n",
    "- A records point to IPs within Google's network (likely Google Sites hosting for web content).\n",
    "**MX Records (Email)**\n",
    "- The district uses Google Workspace (Gmail) for email, as shown by multiple aspmx.l.google.com MX records.\n",
    "- SPF record is correctly configured: v=spf1 include:_spf.google.com include:mg.infinitecampus.org -all\n",
    "    - This helps mitigate spoofing by defining authorized mail senders.\n",
    "**DMARC Record**\n",
    "- A valid DMARC record exists with a **reject** policy: v=DMARC1; p=reject; rua=mailto:dmarc@valier.k12.mt.us\n",
    "    - This instructs receiving servers to reject unauthenticated mail, providing strong protection against phishing.\n",
    "**Conclusion:** DNS and email protections (SPF, DMARC, and hosting security) are configured correctly and follow best practices.\n",
    "\n",
    "**5. Port Scanning Results**\n",
    "\n",
    "**Website Hosting (Google IP: 216.239.32.21)**\n",
    "- **Port 80 (HTTP):** Open\n",
    "- **Port 443 (HTTPS):** Open\n",
    "These are expected for a publicly accessible website and are typical for Google-hosted services.\n",
    "\n",
    "**Firewall / External IP (216.220.16.170)**\n",
    "- **All scanned ports are closed**\n",
    "This is a strong sign of network perimeter hardening and good firewall configuration. No externally exposed services were found on the organization's primary IP.\n",
    "\n",
    "**6. Risk Assessment & Readiness Summary**\n",
    "| Category | Status | Notes |\n",
    "| :------: | :----: | :---: |\n",
    "| Authentication Security | Strong | MFA is required across key systems |\n",
    "| Email Security | Strong | SPF and DMARC with \"reject\" policy in place |\n",
    "| Network Exposure | Secure | No exposed services on the external firewall IP |\n",
    "| Web Hosting | Secure | Google-hosted; limited attack surface |\n",
    "| Policy & Training | Comprehensive | Acceptable use policies and regular training in place |\n",
    "\n",
    "**7. Recommendations**\n",
    "Although the cybersecurity readiness is solid, continuous improvement is essential. We recommend the following:\n",
    "1. **Verify DKIM**: While SPF and DMARC are configured, ensure **DKIM** is also active for all sending domains.\n",
    "2. **Vulnerability Scanning**: Consider regular internal and external vulnerability assessments of network devices and servers.\n",
    "3. **Incident Response Plan**: Document and regularly test a cybersecurity incident reponse and disaster recovery plan.\n",
    "4. **Asset Inventory**: Maintain a regularly updated inventory of hardware/software assets and monitor for unauthorized changes.\n",
    "5. **Third-party Risk**: Evaluate vendors (e.g., Infinite Campus) for their security psture, especially since they're included in SPF.\n",
    "\n",
    "**8. Conclusion**\n",
    "\n",
    "Valier School District demonstrates a strong cybersecurity foundation, particularly in authentication, email protection, staff training, and perimeter security. Continued vigilance and regular audits will help maintain and improve this strong security posture.\n",
    "\n",
    "**Prepared by:**\n",
    "\n",
    "Cybersecurity Assessment Team\n",
    "\n",
    "**Date:** July 18, 2025"
   ]
  },
  {
   "cell_type": "markdown",
   "id": "95457b58",
   "metadata": {},
   "source": [
    "## Testing Gemini API"
   ]
  },
  {
   "cell_type": "markdown",
   "id": "b85e183e",
   "metadata": {},
   "source": [
    "[Gemini Models](https://ai.google.dev/gemini-api/docs/models)"
   ]
  },
  {
   "cell_type": "code",
   "execution_count": 3,
   "id": "627d9dbc",
   "metadata": {},
   "outputs": [
    {
     "name": "stderr",
     "output_type": "stream",
     "text": [
      "c:\\Users\\victo\\anaconda3\\envs\\sd2\\lib\\site-packages\\tqdm\\auto.py:21: TqdmWarning: IProgress not found. Please update jupyter and ipywidgets. See https://ipywidgets.readthedocs.io/en/stable/user_install.html\n",
      "  from .autonotebook import tqdm as notebook_tqdm\n"
     ]
    },
    {
     "name": "stdout",
     "output_type": "stream",
     "text": [
      "Of course! Here is an explanation of cybersecurity in simple terms, using an analogy.\n",
      "\n",
      "### Imagine Your Digital Life is a House\n",
      "\n",
      "Think of all your online information—your emails, bank accounts, photos, and social media profiles—as being inside your house.\n",
      "\n",
      "*   **Your Data** is your valuable stuff: your money, jewelry, family photos, and important documents.\n",
      "*   **Your Devices** (computer, phone) are the house itself.\n",
      "*   **The Internet** is the neighborhood your house is in, with roads leading to your front door.\n",
      "\n",
      "**Cybersecurity is everything you do to keep your house and your valuables safe.**\n",
      "\n",
      "It's not just one thing; it's a combination of things, just like home security:\n",
      "\n",
      "1.  **The Locks on Your Doors (Passwords):** This is your first line of defense. A weak password like \"12345\" is like leaving your key under the doormat. A strong, unique password is like a high-quality deadbolt.\n",
      "\n",
      "2.  **The Security Guard Who Asks for a Second ID (Two-Factor Authentication - 2FA):** Even if a thief steals your key (your password), they can't get in because a security guard (your phone) asks for a special code that only you have. This is one of the best ways to stay safe.\n",
      "\n",
      "3.  **The Security System (Antivirus & Firewalls):** This is software that actively looks for burglars (viruses) trying to sneak in through a window or back door. A firewall is like the front gate, deciding who is even allowed to approach your door.\n",
      "\n",
      "4.  **Not Falling for Scams (Phishing Awareness):** If a stranger in a fake delivery uniform knocks on your door and asks you to open it and give them your key, you’d be suspicious. That's what a \"phishing\" email is—a fake message trying to trick you into giving away your password or personal information. Cybersecurity is about learning to spot these fakes.\n",
      "\n",
      "5.  **Fixing Cracks in the Walls (Software Updates):** Sometimes, companies find weaknesses in their software (like a crack in a wall or a broken window latch). A software update is them sending a handyman to fix it so burglars can't get in that way. That's why keeping your apps and devices updated is so important.\n",
      "\n",
      "---\n",
      "\n",
      "### So, in a Nutshell:\n",
      "\n",
      "**Cybersecurity is the practice of protecting our digital world from theft, damage, or unauthorized access.**\n",
      "\n",
      "It’s about keeping our private information **private** (Confidentiality), making sure our information is **accurate** and not tampered with (Integrity), and ensuring we can **access** our information and services when we need to (Availability).\n",
      "\n",
      "Just like you lock your car and house without thinking, cybersecurity is about developing good, safe habits for your life online.\n"
     ]
    }
   ],
   "source": [
    "import os\n",
    "import google.generativeai as genai\n",
    "from dotenv import load_dotenv, find_dotenv\n",
    "\n",
    "load_dotenv(find_dotenv())\n",
    "\n",
    "genai.configure(api_key=os.environ[\"GEMINI_API_KEY\"])\n",
    "\n",
    "model = genai.GenerativeModel('gemini-2.5-pro')\n",
    "response = model.generate_content(\"Explain the concept of cybersecurity in simple terms.\")\n",
    "\n",
    "print(response.text)"
   ]
  },
  {
   "cell_type": "code",
   "execution_count": null,
   "id": "4e4fedce",
   "metadata": {},
   "outputs": [
    {
     "name": "stdout",
     "output_type": "stream",
     "text": [
      "Prompt:\n",
      "{\"text\": \"Given this DNS DIG, Port scan of the website, Port scan of the firewall, and the answers to the security questionnaire, write a report on the cybersecurity readiness of the organization.\"}\n",
      "Context:\n",
      "test_questionnaire.json:\n",
      "{\n",
      "  \"text\": {\n",
      "    \"Organization Name\": \"Valier School District\",\n",
      "    \"Email Domain\": \"valier.k12.mt.us\",\n",
      "    \"Website Domain\": \"www.valier.k12.mt.us\",\n",
      "    \"External IP\": \"216.220.16.170\",\n",
      "    \"Do you require MFA to access email?\": \"Yes\",\n",
      "    \"Do you require MFA to log into computers?\": \"Yes\",\n",
      "    \"Do you require MFA to access sensitive data systems?\": \"Yes\",\n",
      "    \"Does your organization have an employee acceptable use policy?\": \"Yes\",\n",
      "    \"Does your organization do security awareness training for new employees?\": \"Yes\",\n",
      "    \"Does your organization do security awareness training for all employees at least once per year?\": \"Yes\"\n",
      "  }\n",
      "}\n",
      "--\n",
      "test_port_scan_external_ip.json:\n",
      "{\n",
      "  \"text\": \"--------------------------------------------------\\nScanning Target: 216.220.16.170\\nScanning started at:2025-07-18 22:12:17.055226\\n--------------------------------------------------\\nno ports open\\n\"\n",
      "}\n",
      "--\n",
      "test_port_scan_web.json:\n",
      "{\n",
      "  \"text\": \"--------------------------------------------------\\nScanning Target: 216.239.32.21\\nScanning started at:2025-07-18 22:09:34.408091\\n--------------------------------------------------\\nPort 80 is open\\nPort 443 is open\\n\"\n",
      "}\n",
      "--\n",
      "test_dns_dig_email.json:\n",
      "{\n",
      "  \"text\": \"id 49113\\nopcode QUERY\\nrcode NOERROR\\nflags QR RD RA\\n;QUESTION\\nvalier.k12.mt.us. IN ANY\\n;ANSWER\\nvalier.k12.mt.us. 3600 IN SOA cudess1.umt.edu. dns-request.umt.edu. 2024030501 21600 900 1209600 86400\\nvalier.k12.mt.us. 3600 IN NS ens-o1.umt.edu.\\nvalier.k12.mt.us. 3600 IN NS cudess2.umt.edu.\\nvalier.k12.mt.us. 3600 IN NS cudess1.umt.edu.\\nvalier.k12.mt.us. 3600 IN A 216.239.38.21\\nvalier.k12.mt.us. 3600 IN A 216.239.32.21\\nvalier.k12.mt.us. 3600 IN A 216.239.34.21\\nvalier.k12.mt.us. 3600 IN A 216.239.36.21\\nvalier.k12.mt.us. 3600 IN MX 1 aspmx.l.google.com.\\nvalier.k12.mt.us. 3600 IN MX 10 aspmx2.googlemail.com.\\nvalier.k12.mt.us. 3600 IN MX 10 aspmx3.googlemail.com.\\nvalier.k12.mt.us. 3600 IN MX 5 alt1.aspmx.l.google.com.\\nvalier.k12.mt.us. 3600 IN MX 5 alt2.aspmx.l.google.com.\\nvalier.k12.mt.us. 3600 IN TXT \\\"v=spf1 include:_spf.google.com include:mg.infinitecampus.org -all\\\"\\n;AUTHORITY\\n;ADDITIONAL\\n\"\n",
      "}\n",
      "--\n",
      "test_dns_dig_email_dmarc.json:\n",
      "{\n",
      "  \"text\": \"id 45565\\nopcode QUERY\\nrcode NOERROR\\nflags QR RD RA\\n;QUESTION\\n_dmarc.valier.k12.mt.us. IN ANY\\n;ANSWER\\n_dmarc.valier.k12.mt.us. 3600 IN TXT \\\"v=DMARC1; p=reject; rua=mailto:dmarc@valier.k12.mt.us\\\"\\n;AUTHORITY\\n;ADDITIONAL\\n\"\n",
      "}\n",
      "--\n",
      "test_sample_report.json:\n",
      "{\n",
      "  \"text\": \"**Cybersecurity Readiness Report for Valier School District**\\n\\n**Date:** July 18, 2025\\n\\n**1. Overview**\\n\\nThis report evaluates the cybersecurity posture of Valier School District based on technical scans (DNS, DMARC, and port scanning) and a self-reported security questionnaire. The findings reflect a strong commitment to foundational cybersecurity practices across user access, email protection, network exposure, and staff awareness.\\n\\n**2. Organizational Information**\\n- **Organization Name:** Valier School District\\n- **Email Domain:** valier.k12.mt.us\\n- **Website Domain:** www.valier.k12.mt.us\\n- **External IP (Firewall):** 216.220.16.170\\n- **Website Hosting IPs:** 216.239.32.21, 216.239.34.21, 216.239.36.21, 216.239.38.21\\n- **DNS Hosting:** Managed by University of Montana (umt.edu nameservers)\\n\\n**3. Security Questionnaire Review**\\n| Security Control | Status |\\n| :--------------: | :----: |\\n| MFA for Email | Yes |\\n| MFA for Computer Login | Yes |\\n| MFA for Sensitive Systems | Yes |\\n| Acceptable Use Policy | Yes |\\n| New Employee Security Awareness Training | Yes |\\n| Annual All-Employee Security Training | Yes |\\n\\n**Summary:** The district reports complete implementation of basic cyber hygiene practices, especially user authentication (Multi-Factor Authentication) and routine training. This indicates a proactive and policy-driven approach to risk mitigation.\\n\\n**4. DNS & Email Security**\\n\\n**DNS Records**\\n- DNS is managed by the University of Montana (cudess1.umt.edu, cudess2.umt.edu), suggesting centralized and professionally administered DNS.\\n- A records point to IPs within Google's network (likely Google Sites hosting for web content).\\n**MX Records (Email)**\\n- The district uses Google Workspace (Gmail) for email, as shown by multiple aspmx.l.google.com MX records.\\n- SPF record is correctly configured: v=spf1 include:_spf.google.com include:mg.infinitecampus.org -all\\n\\t- This helps mitigate spoofing by defining authorized mail senders./n**DMARC Record**/n- A valid DMARC record exists with a **reject** policy: v=DMARC1; p=reject; rua=mailto:dmarc@valier.k12.mt.us\\n\\t- This instructs receiving servers to reject unauthenticated mail, providing strong protection against phishing./n**Conclusion:** DNS and email protections (SPF, DMARC, and hosting security) are configured correctly and follow best practices.\\n\\n**5. Port Scanning Results**\\n\\n**Website Hosting (Google IP: 216.239.32.21)**\\n- **Port 80 (HTTP):** Open\\n- **Port 443 (HTTPS):** Open\\nThese are expected for a publicly accessible website and are typical for Google-hosted services.\\n\\n**Firewall / External IP (216.220.16.170)**\\n- **All scanned ports are closed**\\nThis is a strong sign of network perimeter hardening and good firewall configuration. No externally exposed services were found on the organization's primary IP.\\n\\n**6. Risk Assessment & Readiness Summary**\\n| Category | Status | Notes |\\n| :------: | :----: | :---: |\\n| Authentication Security | Strong | MFA is required across key systems |\\n| Email Security | Strong | SPF and DMARC with \\\"reject\\\" policy in place |\\n| Network Exposure | Secure | No exposed services on the external firewall IP |\\n| Web Hosting | Secure | Google-hosted; limited attack surface |\\n| Policy & Training | Comprehensive | Acceptable use policies and regular training in place |\\n\\n**7. Recommendations**\\nAlthough the cybersecurity readiness is solid, continuous improvement is essential. We recommend the following:\\n1. **Verify DKIM**: While SPF and DMARC are configured, ensure **DKIM** is also active for all sending domains.\\n2. **Vulnerability Scanning**: Consider regular internal and external vulnerability assessments of network devices and servers.\\n3. **Incident Response Plan**: Document and regularly test a cybersecurity incident reponse and disaster recovery plan.\\n4. **Asset Inventory**: Maintain a regularly updated inventory of hardware/software assets and monitor for unauthorized changes.\\n5. **Third-party Risk**: Evaluate vendors (e.g., Infinite Campus) for their security psture, especially since they're included in SPF.\\n\\n**8. Conclusion**\\n\\nValier School District demonstrates a strong cybersecurity foundation, particularly in authentication, email protection, staff training, and perimeter security. Continued vigilance and regular audits will help maintain and improve this strong security posture.\\n\\n**Prepared by:**\\n\\nCybersecurity Assessment Team\\n\\n**Date:** July 18, 2025\"\n",
      "}\n",
      "--\n",
      "\n"
     ]
    }
   ],
   "source": [
    "import json\n",
    "\n",
    "prompt_text = 'Prompt:\\n'\n",
    "context_text = 'Context:\\n'\n",
    "filepaths = [\"test_prompt.json\", \"test_questionnaire.json\", \"test_port_scan_external_ip.json\", \"test_port_scan_web.json\", \"test_dns_dig_email.json\", \"test_dns_dig_email_dmarc.json\", \"test_sample_report.json\"]\n",
    "\n",
    "# Loading the data\n",
    "for file in filepaths:\n",
    "    try:\n",
    "        with open(file, 'r', encoding='utf-8') as f:\n",
    "            data = json.load(f)\n",
    "\n",
    "            if (file == \"test_prompt.json\"):\n",
    "                prompt_text += json.dumps(data)\n",
    "            else:\n",
    "                context_text += f\"{file}:\\n{json.dumps(data,indent=2)}\\n--\\n\"\n",
    "\n",
    "    except FileNotFoundError:\n",
    "        f\"[ERROR] File not found at path: {file}\"\n",
    "    except json.JSONDecodeError:\n",
    "        f\"[ERROR] Failed to decode JSON from file: {file}. Please check the file's syntax\"\n",
    "    except Exception as e:\n",
    "        f\"[ERROR] An unexpected error occurred: {e}\"\n",
    "\n",
    "print(prompt_text)\n",
    "print(context_text)\n",
    "\n",
    "# Cleaning up / prompt engineering testing"
   ]
  },
  {
   "cell_type": "code",
   "execution_count": null,
   "id": "4b7a439c",
   "metadata": {},
   "outputs": [
    {
     "ename": "KeyboardInterrupt",
     "evalue": "",
     "output_type": "error",
     "traceback": [
      "\u001b[1;31m---------------------------------------------------------------------------\u001b[0m",
      "\u001b[1;31mKeyboardInterrupt\u001b[0m                         Traceback (most recent call last)",
      "Cell \u001b[1;32mIn[7], line 1\u001b[0m\n\u001b[1;32m----> 1\u001b[0m response \u001b[38;5;241m=\u001b[39m \u001b[43mmodel\u001b[49m\u001b[38;5;241;43m.\u001b[39;49m\u001b[43mgenerate_content\u001b[49m\u001b[43m(\u001b[49m\u001b[43mcontents\u001b[49m\u001b[38;5;241;43m=\u001b[39;49m\u001b[43m[\u001b[49m\u001b[43mprompt_text\u001b[49m\u001b[43m,\u001b[49m\u001b[43m \u001b[49m\u001b[38;5;124;43m\"\u001b[39;49m\u001b[38;5;130;43;01m\\n\u001b[39;49;00m\u001b[38;5;130;43;01m\\n\u001b[39;49;00m\u001b[38;5;132;43;01m{context_text}\u001b[39;49;00m\u001b[38;5;124;43m\"\u001b[39;49m\u001b[43m]\u001b[49m\u001b[43m)\u001b[49m\n\u001b[0;32m      2\u001b[0m \u001b[38;5;28mprint\u001b[39m(response)\n",
      "File \u001b[1;32mc:\\Users\\victo\\anaconda3\\envs\\sd2\\lib\\site-packages\\google\\generativeai\\generative_models.py:331\u001b[0m, in \u001b[0;36mGenerativeModel.generate_content\u001b[1;34m(self, contents, generation_config, safety_settings, stream, tools, tool_config, request_options)\u001b[0m\n\u001b[0;32m    329\u001b[0m         \u001b[38;5;28;01mreturn\u001b[39;00m generation_types\u001b[38;5;241m.\u001b[39mGenerateContentResponse\u001b[38;5;241m.\u001b[39mfrom_iterator(iterator)\n\u001b[0;32m    330\u001b[0m     \u001b[38;5;28;01melse\u001b[39;00m:\n\u001b[1;32m--> 331\u001b[0m         response \u001b[38;5;241m=\u001b[39m \u001b[38;5;28mself\u001b[39m\u001b[38;5;241m.\u001b[39m_client\u001b[38;5;241m.\u001b[39mgenerate_content(\n\u001b[0;32m    332\u001b[0m             request,\n\u001b[0;32m    333\u001b[0m             \u001b[38;5;241m*\u001b[39m\u001b[38;5;241m*\u001b[39mrequest_options,\n\u001b[0;32m    334\u001b[0m         )\n\u001b[0;32m    335\u001b[0m         \u001b[38;5;28;01mreturn\u001b[39;00m generation_types\u001b[38;5;241m.\u001b[39mGenerateContentResponse\u001b[38;5;241m.\u001b[39mfrom_response(response)\n\u001b[0;32m    336\u001b[0m \u001b[38;5;28;01mexcept\u001b[39;00m google\u001b[38;5;241m.\u001b[39mapi_core\u001b[38;5;241m.\u001b[39mexceptions\u001b[38;5;241m.\u001b[39mInvalidArgument \u001b[38;5;28;01mas\u001b[39;00m e:\n",
      "File \u001b[1;32mc:\\Users\\victo\\anaconda3\\envs\\sd2\\lib\\site-packages\\google\\ai\\generativelanguage_v1beta\\services\\generative_service\\client.py:835\u001b[0m, in \u001b[0;36mGenerativeServiceClient.generate_content\u001b[1;34m(self, request, model, contents, retry, timeout, metadata)\u001b[0m\n\u001b[0;32m    832\u001b[0m \u001b[38;5;28mself\u001b[39m\u001b[38;5;241m.\u001b[39m_validate_universe_domain()\n\u001b[0;32m    834\u001b[0m \u001b[38;5;66;03m# Send the request.\u001b[39;00m\n\u001b[1;32m--> 835\u001b[0m response \u001b[38;5;241m=\u001b[39m \u001b[43mrpc\u001b[49m\u001b[43m(\u001b[49m\n\u001b[0;32m    836\u001b[0m \u001b[43m    \u001b[49m\u001b[43mrequest\u001b[49m\u001b[43m,\u001b[49m\n\u001b[0;32m    837\u001b[0m \u001b[43m    \u001b[49m\u001b[43mretry\u001b[49m\u001b[38;5;241;43m=\u001b[39;49m\u001b[43mretry\u001b[49m\u001b[43m,\u001b[49m\n\u001b[0;32m    838\u001b[0m \u001b[43m    \u001b[49m\u001b[43mtimeout\u001b[49m\u001b[38;5;241;43m=\u001b[39;49m\u001b[43mtimeout\u001b[49m\u001b[43m,\u001b[49m\n\u001b[0;32m    839\u001b[0m \u001b[43m    \u001b[49m\u001b[43mmetadata\u001b[49m\u001b[38;5;241;43m=\u001b[39;49m\u001b[43mmetadata\u001b[49m\u001b[43m,\u001b[49m\n\u001b[0;32m    840\u001b[0m \u001b[43m\u001b[49m\u001b[43m)\u001b[49m\n\u001b[0;32m    842\u001b[0m \u001b[38;5;66;03m# Done; return the response.\u001b[39;00m\n\u001b[0;32m    843\u001b[0m \u001b[38;5;28;01mreturn\u001b[39;00m response\n",
      "File \u001b[1;32mc:\\Users\\victo\\anaconda3\\envs\\sd2\\lib\\site-packages\\google\\api_core\\gapic_v1\\method.py:131\u001b[0m, in \u001b[0;36m_GapicCallable.__call__\u001b[1;34m(self, timeout, retry, compression, *args, **kwargs)\u001b[0m\n\u001b[0;32m    128\u001b[0m \u001b[38;5;28;01mif\u001b[39;00m \u001b[38;5;28mself\u001b[39m\u001b[38;5;241m.\u001b[39m_compression \u001b[38;5;129;01mis\u001b[39;00m \u001b[38;5;129;01mnot\u001b[39;00m \u001b[38;5;28;01mNone\u001b[39;00m:\n\u001b[0;32m    129\u001b[0m     kwargs[\u001b[38;5;124m\"\u001b[39m\u001b[38;5;124mcompression\u001b[39m\u001b[38;5;124m\"\u001b[39m] \u001b[38;5;241m=\u001b[39m compression\n\u001b[1;32m--> 131\u001b[0m \u001b[38;5;28;01mreturn\u001b[39;00m wrapped_func(\u001b[38;5;241m*\u001b[39margs, \u001b[38;5;241m*\u001b[39m\u001b[38;5;241m*\u001b[39mkwargs)\n",
      "File \u001b[1;32mc:\\Users\\victo\\anaconda3\\envs\\sd2\\lib\\site-packages\\google\\api_core\\retry\\retry_unary.py:294\u001b[0m, in \u001b[0;36mRetry.__call__.<locals>.retry_wrapped_func\u001b[1;34m(*args, **kwargs)\u001b[0m\n\u001b[0;32m    290\u001b[0m target \u001b[38;5;241m=\u001b[39m functools\u001b[38;5;241m.\u001b[39mpartial(func, \u001b[38;5;241m*\u001b[39margs, \u001b[38;5;241m*\u001b[39m\u001b[38;5;241m*\u001b[39mkwargs)\n\u001b[0;32m    291\u001b[0m sleep_generator \u001b[38;5;241m=\u001b[39m exponential_sleep_generator(\n\u001b[0;32m    292\u001b[0m     \u001b[38;5;28mself\u001b[39m\u001b[38;5;241m.\u001b[39m_initial, \u001b[38;5;28mself\u001b[39m\u001b[38;5;241m.\u001b[39m_maximum, multiplier\u001b[38;5;241m=\u001b[39m\u001b[38;5;28mself\u001b[39m\u001b[38;5;241m.\u001b[39m_multiplier\n\u001b[0;32m    293\u001b[0m )\n\u001b[1;32m--> 294\u001b[0m \u001b[38;5;28;01mreturn\u001b[39;00m \u001b[43mretry_target\u001b[49m\u001b[43m(\u001b[49m\n\u001b[0;32m    295\u001b[0m \u001b[43m    \u001b[49m\u001b[43mtarget\u001b[49m\u001b[43m,\u001b[49m\n\u001b[0;32m    296\u001b[0m \u001b[43m    \u001b[49m\u001b[38;5;28;43mself\u001b[39;49m\u001b[38;5;241;43m.\u001b[39;49m\u001b[43m_predicate\u001b[49m\u001b[43m,\u001b[49m\n\u001b[0;32m    297\u001b[0m \u001b[43m    \u001b[49m\u001b[43msleep_generator\u001b[49m\u001b[43m,\u001b[49m\n\u001b[0;32m    298\u001b[0m \u001b[43m    \u001b[49m\u001b[43mtimeout\u001b[49m\u001b[38;5;241;43m=\u001b[39;49m\u001b[38;5;28;43mself\u001b[39;49m\u001b[38;5;241;43m.\u001b[39;49m\u001b[43m_timeout\u001b[49m\u001b[43m,\u001b[49m\n\u001b[0;32m    299\u001b[0m \u001b[43m    \u001b[49m\u001b[43mon_error\u001b[49m\u001b[38;5;241;43m=\u001b[39;49m\u001b[43mon_error\u001b[49m\u001b[43m,\u001b[49m\n\u001b[0;32m    300\u001b[0m \u001b[43m\u001b[49m\u001b[43m)\u001b[49m\n",
      "File \u001b[1;32mc:\\Users\\victo\\anaconda3\\envs\\sd2\\lib\\site-packages\\google\\api_core\\retry\\retry_unary.py:147\u001b[0m, in \u001b[0;36mretry_target\u001b[1;34m(target, predicate, sleep_generator, timeout, on_error, exception_factory, **kwargs)\u001b[0m\n\u001b[0;32m    145\u001b[0m \u001b[38;5;28;01mwhile\u001b[39;00m \u001b[38;5;28;01mTrue\u001b[39;00m:\n\u001b[0;32m    146\u001b[0m     \u001b[38;5;28;01mtry\u001b[39;00m:\n\u001b[1;32m--> 147\u001b[0m         result \u001b[38;5;241m=\u001b[39m \u001b[43mtarget\u001b[49m\u001b[43m(\u001b[49m\u001b[43m)\u001b[49m\n\u001b[0;32m    148\u001b[0m         \u001b[38;5;28;01mif\u001b[39;00m inspect\u001b[38;5;241m.\u001b[39misawaitable(result):\n\u001b[0;32m    149\u001b[0m             warnings\u001b[38;5;241m.\u001b[39mwarn(_ASYNC_RETRY_WARNING)\n",
      "File \u001b[1;32mc:\\Users\\victo\\anaconda3\\envs\\sd2\\lib\\site-packages\\google\\api_core\\timeout.py:130\u001b[0m, in \u001b[0;36mTimeToDeadlineTimeout.__call__.<locals>.func_with_timeout\u001b[1;34m(*args, **kwargs)\u001b[0m\n\u001b[0;32m    126\u001b[0m         remaining_timeout \u001b[38;5;241m=\u001b[39m \u001b[38;5;28mself\u001b[39m\u001b[38;5;241m.\u001b[39m_timeout\n\u001b[0;32m    128\u001b[0m     kwargs[\u001b[38;5;124m\"\u001b[39m\u001b[38;5;124mtimeout\u001b[39m\u001b[38;5;124m\"\u001b[39m] \u001b[38;5;241m=\u001b[39m remaining_timeout\n\u001b[1;32m--> 130\u001b[0m \u001b[38;5;28;01mreturn\u001b[39;00m func(\u001b[38;5;241m*\u001b[39margs, \u001b[38;5;241m*\u001b[39m\u001b[38;5;241m*\u001b[39mkwargs)\n",
      "File \u001b[1;32mc:\\Users\\victo\\anaconda3\\envs\\sd2\\lib\\site-packages\\google\\api_core\\grpc_helpers.py:75\u001b[0m, in \u001b[0;36m_wrap_unary_errors.<locals>.error_remapped_callable\u001b[1;34m(*args, **kwargs)\u001b[0m\n\u001b[0;32m     72\u001b[0m \u001b[38;5;129m@functools\u001b[39m\u001b[38;5;241m.\u001b[39mwraps(callable_)\n\u001b[0;32m     73\u001b[0m \u001b[38;5;28;01mdef\u001b[39;00m\u001b[38;5;250m \u001b[39m\u001b[38;5;21merror_remapped_callable\u001b[39m(\u001b[38;5;241m*\u001b[39margs, \u001b[38;5;241m*\u001b[39m\u001b[38;5;241m*\u001b[39mkwargs):\n\u001b[0;32m     74\u001b[0m     \u001b[38;5;28;01mtry\u001b[39;00m:\n\u001b[1;32m---> 75\u001b[0m         \u001b[38;5;28;01mreturn\u001b[39;00m callable_(\u001b[38;5;241m*\u001b[39margs, \u001b[38;5;241m*\u001b[39m\u001b[38;5;241m*\u001b[39mkwargs)\n\u001b[0;32m     76\u001b[0m     \u001b[38;5;28;01mexcept\u001b[39;00m grpc\u001b[38;5;241m.\u001b[39mRpcError \u001b[38;5;28;01mas\u001b[39;00m exc:\n\u001b[0;32m     77\u001b[0m         \u001b[38;5;28;01mraise\u001b[39;00m exceptions\u001b[38;5;241m.\u001b[39mfrom_grpc_error(exc) \u001b[38;5;28;01mfrom\u001b[39;00m\u001b[38;5;250m \u001b[39m\u001b[38;5;21;01mexc\u001b[39;00m\n",
      "File \u001b[1;32mc:\\Users\\victo\\anaconda3\\envs\\sd2\\lib\\site-packages\\grpc\\_interceptor.py:277\u001b[0m, in \u001b[0;36m_UnaryUnaryMultiCallable.__call__\u001b[1;34m(self, request, timeout, metadata, credentials, wait_for_ready, compression)\u001b[0m\n\u001b[0;32m    268\u001b[0m \u001b[38;5;28;01mdef\u001b[39;00m\u001b[38;5;250m \u001b[39m\u001b[38;5;21m__call__\u001b[39m(\n\u001b[0;32m    269\u001b[0m     \u001b[38;5;28mself\u001b[39m,\n\u001b[0;32m    270\u001b[0m     request: Any,\n\u001b[1;32m   (...)\u001b[0m\n\u001b[0;32m    275\u001b[0m     compression: Optional[grpc\u001b[38;5;241m.\u001b[39mCompression] \u001b[38;5;241m=\u001b[39m \u001b[38;5;28;01mNone\u001b[39;00m,\n\u001b[0;32m    276\u001b[0m ) \u001b[38;5;241m-\u001b[39m\u001b[38;5;241m>\u001b[39m Any:\n\u001b[1;32m--> 277\u001b[0m     response, ignored_call \u001b[38;5;241m=\u001b[39m \u001b[38;5;28;43mself\u001b[39;49m\u001b[38;5;241;43m.\u001b[39;49m\u001b[43m_with_call\u001b[49m\u001b[43m(\u001b[49m\n\u001b[0;32m    278\u001b[0m \u001b[43m        \u001b[49m\u001b[43mrequest\u001b[49m\u001b[43m,\u001b[49m\n\u001b[0;32m    279\u001b[0m \u001b[43m        \u001b[49m\u001b[43mtimeout\u001b[49m\u001b[38;5;241;43m=\u001b[39;49m\u001b[43mtimeout\u001b[49m\u001b[43m,\u001b[49m\n\u001b[0;32m    280\u001b[0m \u001b[43m        \u001b[49m\u001b[43mmetadata\u001b[49m\u001b[38;5;241;43m=\u001b[39;49m\u001b[43mmetadata\u001b[49m\u001b[43m,\u001b[49m\n\u001b[0;32m    281\u001b[0m \u001b[43m        \u001b[49m\u001b[43mcredentials\u001b[49m\u001b[38;5;241;43m=\u001b[39;49m\u001b[43mcredentials\u001b[49m\u001b[43m,\u001b[49m\n\u001b[0;32m    282\u001b[0m \u001b[43m        \u001b[49m\u001b[43mwait_for_ready\u001b[49m\u001b[38;5;241;43m=\u001b[39;49m\u001b[43mwait_for_ready\u001b[49m\u001b[43m,\u001b[49m\n\u001b[0;32m    283\u001b[0m \u001b[43m        \u001b[49m\u001b[43mcompression\u001b[49m\u001b[38;5;241;43m=\u001b[39;49m\u001b[43mcompression\u001b[49m\u001b[43m,\u001b[49m\n\u001b[0;32m    284\u001b[0m \u001b[43m    \u001b[49m\u001b[43m)\u001b[49m\n\u001b[0;32m    285\u001b[0m     \u001b[38;5;28;01mreturn\u001b[39;00m response\n",
      "File \u001b[1;32mc:\\Users\\victo\\anaconda3\\envs\\sd2\\lib\\site-packages\\grpc\\_interceptor.py:329\u001b[0m, in \u001b[0;36m_UnaryUnaryMultiCallable._with_call\u001b[1;34m(self, request, timeout, metadata, credentials, wait_for_ready, compression)\u001b[0m\n\u001b[0;32m    326\u001b[0m     \u001b[38;5;28;01mexcept\u001b[39;00m \u001b[38;5;167;01mException\u001b[39;00m \u001b[38;5;28;01mas\u001b[39;00m exception:  \u001b[38;5;66;03m# pylint:disable=broad-except\u001b[39;00m\n\u001b[0;32m    327\u001b[0m         \u001b[38;5;28;01mreturn\u001b[39;00m _FailureOutcome(exception, sys\u001b[38;5;241m.\u001b[39mexc_info()[\u001b[38;5;241m2\u001b[39m])\n\u001b[1;32m--> 329\u001b[0m call \u001b[38;5;241m=\u001b[39m \u001b[38;5;28;43mself\u001b[39;49m\u001b[38;5;241;43m.\u001b[39;49m\u001b[43m_interceptor\u001b[49m\u001b[38;5;241;43m.\u001b[39;49m\u001b[43mintercept_unary_unary\u001b[49m\u001b[43m(\u001b[49m\n\u001b[0;32m    330\u001b[0m \u001b[43m    \u001b[49m\u001b[43mcontinuation\u001b[49m\u001b[43m,\u001b[49m\u001b[43m \u001b[49m\u001b[43mclient_call_details\u001b[49m\u001b[43m,\u001b[49m\u001b[43m \u001b[49m\u001b[43mrequest\u001b[49m\n\u001b[0;32m    331\u001b[0m \u001b[43m\u001b[49m\u001b[43m)\u001b[49m\n\u001b[0;32m    332\u001b[0m \u001b[38;5;28;01mreturn\u001b[39;00m call\u001b[38;5;241m.\u001b[39mresult(), call\n",
      "File \u001b[1;32mc:\\Users\\victo\\anaconda3\\envs\\sd2\\lib\\site-packages\\google\\ai\\generativelanguage_v1beta\\services\\generative_service\\transports\\grpc.py:79\u001b[0m, in \u001b[0;36m_LoggingClientInterceptor.intercept_unary_unary\u001b[1;34m(self, continuation, client_call_details, request)\u001b[0m\n\u001b[0;32m     64\u001b[0m     grpc_request \u001b[38;5;241m=\u001b[39m {\n\u001b[0;32m     65\u001b[0m         \u001b[38;5;124m\"\u001b[39m\u001b[38;5;124mpayload\u001b[39m\u001b[38;5;124m\"\u001b[39m: request_payload,\n\u001b[0;32m     66\u001b[0m         \u001b[38;5;124m\"\u001b[39m\u001b[38;5;124mrequestMethod\u001b[39m\u001b[38;5;124m\"\u001b[39m: \u001b[38;5;124m\"\u001b[39m\u001b[38;5;124mgrpc\u001b[39m\u001b[38;5;124m\"\u001b[39m,\n\u001b[0;32m     67\u001b[0m         \u001b[38;5;124m\"\u001b[39m\u001b[38;5;124mmetadata\u001b[39m\u001b[38;5;124m\"\u001b[39m: \u001b[38;5;28mdict\u001b[39m(request_metadata),\n\u001b[0;32m     68\u001b[0m     }\n\u001b[0;32m     69\u001b[0m     _LOGGER\u001b[38;5;241m.\u001b[39mdebug(\n\u001b[0;32m     70\u001b[0m         \u001b[38;5;124mf\u001b[39m\u001b[38;5;124m\"\u001b[39m\u001b[38;5;124mSending request for \u001b[39m\u001b[38;5;132;01m{\u001b[39;00mclient_call_details\u001b[38;5;241m.\u001b[39mmethod\u001b[38;5;132;01m}\u001b[39;00m\u001b[38;5;124m\"\u001b[39m,\n\u001b[0;32m     71\u001b[0m         extra\u001b[38;5;241m=\u001b[39m{\n\u001b[1;32m   (...)\u001b[0m\n\u001b[0;32m     76\u001b[0m         },\n\u001b[0;32m     77\u001b[0m     )\n\u001b[1;32m---> 79\u001b[0m response \u001b[38;5;241m=\u001b[39m \u001b[43mcontinuation\u001b[49m\u001b[43m(\u001b[49m\u001b[43mclient_call_details\u001b[49m\u001b[43m,\u001b[49m\u001b[43m \u001b[49m\u001b[43mrequest\u001b[49m\u001b[43m)\u001b[49m\n\u001b[0;32m     80\u001b[0m \u001b[38;5;28;01mif\u001b[39;00m logging_enabled:  \u001b[38;5;66;03m# pragma: NO COVER\u001b[39;00m\n\u001b[0;32m     81\u001b[0m     response_metadata \u001b[38;5;241m=\u001b[39m response\u001b[38;5;241m.\u001b[39mtrailing_metadata()\n",
      "File \u001b[1;32mc:\\Users\\victo\\anaconda3\\envs\\sd2\\lib\\site-packages\\grpc\\_interceptor.py:315\u001b[0m, in \u001b[0;36m_UnaryUnaryMultiCallable._with_call.<locals>.continuation\u001b[1;34m(new_details, request)\u001b[0m\n\u001b[0;32m    306\u001b[0m (\n\u001b[0;32m    307\u001b[0m     new_method,\n\u001b[0;32m    308\u001b[0m     new_timeout,\n\u001b[1;32m   (...)\u001b[0m\n\u001b[0;32m    312\u001b[0m     new_compression,\n\u001b[0;32m    313\u001b[0m ) \u001b[38;5;241m=\u001b[39m _unwrap_client_call_details(new_details, client_call_details)\n\u001b[0;32m    314\u001b[0m \u001b[38;5;28;01mtry\u001b[39;00m:\n\u001b[1;32m--> 315\u001b[0m     response, call \u001b[38;5;241m=\u001b[39m \u001b[38;5;28;43mself\u001b[39;49m\u001b[38;5;241;43m.\u001b[39;49m\u001b[43m_thunk\u001b[49m\u001b[43m(\u001b[49m\u001b[43mnew_method\u001b[49m\u001b[43m)\u001b[49m\u001b[38;5;241;43m.\u001b[39;49m\u001b[43mwith_call\u001b[49m\u001b[43m(\u001b[49m\n\u001b[0;32m    316\u001b[0m \u001b[43m        \u001b[49m\u001b[43mrequest\u001b[49m\u001b[43m,\u001b[49m\n\u001b[0;32m    317\u001b[0m \u001b[43m        \u001b[49m\u001b[43mtimeout\u001b[49m\u001b[38;5;241;43m=\u001b[39;49m\u001b[43mnew_timeout\u001b[49m\u001b[43m,\u001b[49m\n\u001b[0;32m    318\u001b[0m \u001b[43m        \u001b[49m\u001b[43mmetadata\u001b[49m\u001b[38;5;241;43m=\u001b[39;49m\u001b[43mnew_metadata\u001b[49m\u001b[43m,\u001b[49m\n\u001b[0;32m    319\u001b[0m \u001b[43m        \u001b[49m\u001b[43mcredentials\u001b[49m\u001b[38;5;241;43m=\u001b[39;49m\u001b[43mnew_credentials\u001b[49m\u001b[43m,\u001b[49m\n\u001b[0;32m    320\u001b[0m \u001b[43m        \u001b[49m\u001b[43mwait_for_ready\u001b[49m\u001b[38;5;241;43m=\u001b[39;49m\u001b[43mnew_wait_for_ready\u001b[49m\u001b[43m,\u001b[49m\n\u001b[0;32m    321\u001b[0m \u001b[43m        \u001b[49m\u001b[43mcompression\u001b[49m\u001b[38;5;241;43m=\u001b[39;49m\u001b[43mnew_compression\u001b[49m\u001b[43m,\u001b[49m\n\u001b[0;32m    322\u001b[0m \u001b[43m    \u001b[49m\u001b[43m)\u001b[49m\n\u001b[0;32m    323\u001b[0m     \u001b[38;5;28;01mreturn\u001b[39;00m _UnaryOutcome(response, call)\n\u001b[0;32m    324\u001b[0m \u001b[38;5;28;01mexcept\u001b[39;00m grpc\u001b[38;5;241m.\u001b[39mRpcError \u001b[38;5;28;01mas\u001b[39;00m rpc_error:\n",
      "File \u001b[1;32mc:\\Users\\victo\\anaconda3\\envs\\sd2\\lib\\site-packages\\grpc\\_channel.py:1192\u001b[0m, in \u001b[0;36m_UnaryUnaryMultiCallable.with_call\u001b[1;34m(self, request, timeout, metadata, credentials, wait_for_ready, compression)\u001b[0m\n\u001b[0;32m   1183\u001b[0m \u001b[38;5;28;01mdef\u001b[39;00m\u001b[38;5;250m \u001b[39m\u001b[38;5;21mwith_call\u001b[39m(\n\u001b[0;32m   1184\u001b[0m     \u001b[38;5;28mself\u001b[39m,\n\u001b[0;32m   1185\u001b[0m     request: Any,\n\u001b[1;32m   (...)\u001b[0m\n\u001b[0;32m   1190\u001b[0m     compression: Optional[grpc\u001b[38;5;241m.\u001b[39mCompression] \u001b[38;5;241m=\u001b[39m \u001b[38;5;28;01mNone\u001b[39;00m,\n\u001b[0;32m   1191\u001b[0m ) \u001b[38;5;241m-\u001b[39m\u001b[38;5;241m>\u001b[39m Tuple[Any, grpc\u001b[38;5;241m.\u001b[39mCall]:\n\u001b[1;32m-> 1192\u001b[0m     state, call \u001b[38;5;241m=\u001b[39m \u001b[38;5;28;43mself\u001b[39;49m\u001b[38;5;241;43m.\u001b[39;49m\u001b[43m_blocking\u001b[49m\u001b[43m(\u001b[49m\n\u001b[0;32m   1193\u001b[0m \u001b[43m        \u001b[49m\u001b[43mrequest\u001b[49m\u001b[43m,\u001b[49m\u001b[43m \u001b[49m\u001b[43mtimeout\u001b[49m\u001b[43m,\u001b[49m\u001b[43m \u001b[49m\u001b[43mmetadata\u001b[49m\u001b[43m,\u001b[49m\u001b[43m \u001b[49m\u001b[43mcredentials\u001b[49m\u001b[43m,\u001b[49m\u001b[43m \u001b[49m\u001b[43mwait_for_ready\u001b[49m\u001b[43m,\u001b[49m\u001b[43m \u001b[49m\u001b[43mcompression\u001b[49m\n\u001b[0;32m   1194\u001b[0m \u001b[43m    \u001b[49m\u001b[43m)\u001b[49m\n\u001b[0;32m   1195\u001b[0m     \u001b[38;5;28;01mreturn\u001b[39;00m _end_unary_response_blocking(state, call, \u001b[38;5;28;01mTrue\u001b[39;00m, \u001b[38;5;28;01mNone\u001b[39;00m)\n",
      "File \u001b[1;32mc:\\Users\\victo\\anaconda3\\envs\\sd2\\lib\\site-packages\\grpc\\_channel.py:1165\u001b[0m, in \u001b[0;36m_UnaryUnaryMultiCallable._blocking\u001b[1;34m(self, request, timeout, metadata, credentials, wait_for_ready, compression)\u001b[0m\n\u001b[0;32m   1148\u001b[0m state\u001b[38;5;241m.\u001b[39mtarget \u001b[38;5;241m=\u001b[39m _common\u001b[38;5;241m.\u001b[39mdecode(\u001b[38;5;28mself\u001b[39m\u001b[38;5;241m.\u001b[39m_target)\n\u001b[0;32m   1149\u001b[0m call \u001b[38;5;241m=\u001b[39m \u001b[38;5;28mself\u001b[39m\u001b[38;5;241m.\u001b[39m_channel\u001b[38;5;241m.\u001b[39msegregated_call(\n\u001b[0;32m   1150\u001b[0m     cygrpc\u001b[38;5;241m.\u001b[39mPropagationConstants\u001b[38;5;241m.\u001b[39mGRPC_PROPAGATE_DEFAULTS,\n\u001b[0;32m   1151\u001b[0m     \u001b[38;5;28mself\u001b[39m\u001b[38;5;241m.\u001b[39m_method,\n\u001b[1;32m   (...)\u001b[0m\n\u001b[0;32m   1163\u001b[0m     \u001b[38;5;28mself\u001b[39m\u001b[38;5;241m.\u001b[39m_registered_call_handle,\n\u001b[0;32m   1164\u001b[0m )\n\u001b[1;32m-> 1165\u001b[0m event \u001b[38;5;241m=\u001b[39m \u001b[43mcall\u001b[49m\u001b[38;5;241;43m.\u001b[39;49m\u001b[43mnext_event\u001b[49m\u001b[43m(\u001b[49m\u001b[43m)\u001b[49m\n\u001b[0;32m   1166\u001b[0m _handle_event(event, state, \u001b[38;5;28mself\u001b[39m\u001b[38;5;241m.\u001b[39m_response_deserializer)\n\u001b[0;32m   1167\u001b[0m \u001b[38;5;28;01mreturn\u001b[39;00m state, call\n",
      "File \u001b[1;32msrc/python/grpcio/grpc/_cython/_cygrpc/channel.pyx.pxi:388\u001b[0m, in \u001b[0;36mgrpc._cython.cygrpc.SegregatedCall.next_event\u001b[1;34m()\u001b[0m\n",
      "File \u001b[1;32msrc/python/grpcio/grpc/_cython/_cygrpc/channel.pyx.pxi:211\u001b[0m, in \u001b[0;36mgrpc._cython.cygrpc._next_call_event\u001b[1;34m()\u001b[0m\n",
      "File \u001b[1;32msrc/python/grpcio/grpc/_cython/_cygrpc/channel.pyx.pxi:205\u001b[0m, in \u001b[0;36mgrpc._cython.cygrpc._next_call_event\u001b[1;34m()\u001b[0m\n",
      "File \u001b[1;32msrc/python/grpcio/grpc/_cython/_cygrpc/completion_queue.pyx.pxi:97\u001b[0m, in \u001b[0;36mgrpc._cython.cygrpc._latent_event\u001b[1;34m()\u001b[0m\n",
      "File \u001b[1;32msrc/python/grpcio/grpc/_cython/_cygrpc/completion_queue.pyx.pxi:80\u001b[0m, in \u001b[0;36mgrpc._cython.cygrpc._internal_latent_event\u001b[1;34m()\u001b[0m\n",
      "File \u001b[1;32msrc/python/grpcio/grpc/_cython/_cygrpc/completion_queue.pyx.pxi:61\u001b[0m, in \u001b[0;36mgrpc._cython.cygrpc._next\u001b[1;34m()\u001b[0m\n",
      "\u001b[1;31mKeyboardInterrupt\u001b[0m: "
     ]
    }
   ],
   "source": [
    "# Response from Gemini API\n",
    "response = model.generate_content(contents=[prompt_text, \"\\n\\n{context_text}\"])\n",
    "print(response)"
   ]
  }
 ],
 "metadata": {
  "kernelspec": {
   "display_name": "sd2",
   "language": "python",
   "name": "python3"
  },
  "language_info": {
   "codemirror_mode": {
    "name": "ipython",
    "version": 3
   },
   "file_extension": ".py",
   "mimetype": "text/x-python",
   "name": "python",
   "nbconvert_exporter": "python",
   "pygments_lexer": "ipython3",
   "version": "3.10.18"
  }
 },
 "nbformat": 4,
 "nbformat_minor": 5
}
